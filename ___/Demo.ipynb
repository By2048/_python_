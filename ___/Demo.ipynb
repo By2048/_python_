{
 "cells": [
  {
   "cell_type": "code",
   "execution_count": 2,
   "metadata": {},
   "outputs": [
    {
     "name": "stdout",
     "output_type": "stream",
     "text": [
      "[1, 2, 3]\n",
      "[4, 5, 6]\n",
      "[7, 8, 9]\n",
      "[10]\n"
     ]
    }
   ],
   "source": [
    "# list分组\n",
    "data = [1, 2, 3, 4, 5, 6, 7, 8, 9, 10]\n",
    "for index in range(0, len(data), 3):\n",
    "    item = data[index: index + 3]\n",
    "    print(item)"
   ]
  },
  {
   "cell_type": "code",
   "execution_count": 2,
   "metadata": {},
   "outputs": [
    {
     "name": "stdout",
     "output_type": "stream",
     "text": [
      "[[1, 2, 3], [4, 5, 6], [7, 8, 9], [10]]\n"
     ]
    }
   ],
   "source": [
    "data = [1, 2, 3, 4, 5, 6, 7, 8, 9, 10]\n",
    "data = [data[i: i + 3] for i in range(0, len(data), 3)]\n",
    "print(data)"
   ]
  },
  {
   "cell_type": "code",
   "execution_count": 3,
   "metadata": {},
   "outputs": [],
   "source": [
    "# 三元运算\n",
    "x = 1\n",
    "y = 2\n",
    "z = x if x < y else y"
   ]
  },
  {
   "cell_type": "code",
   "execution_count": 4,
   "metadata": {},
   "outputs": [
    {
     "name": "stdout",
     "output_type": "stream",
     "text": [
      "{'a': 'fun', 'b': (1, 10), 'c': <class 'float'>, 'return': <class 'int'>}\n",
      "6\n"
     ]
    }
   ],
   "source": [
    "# 函数注释规范\n",
    "def func(a: \"fun\", b: (1, 10), c: float) -> int:\n",
    "    return a + b + c\n",
    "\n",
    "\n",
    "print(func.__annotations__)\n",
    "print(func(1, 2, 3))"
   ]
  },
  {
   "cell_type": "code",
   "execution_count": 5,
   "metadata": {},
   "outputs": [
    {
     "name": "stdout",
     "output_type": "stream",
     "text": [
      "{'a': 'spam', 'b': range(1, 10), 'c': <class 'float'>, 'return': <class 'int'>}\n",
      "6\n",
      "15\n",
      "16\n"
     ]
    }
   ],
   "source": [
    "# 函数注释规范\n",
    "def func(a: \"spam\" = 4, b: range(1, 10) = 5, c: float = 6) -> int:\n",
    "    return a + b + c\n",
    "\n",
    "\n",
    "print(func.__annotations__)\n",
    "print(func(1, 2, 3))\n",
    "print(func())\n",
    "print(func(1, c=10))"
   ]
  },
  {
   "cell_type": "code",
   "execution_count": 6,
   "metadata": {},
   "outputs": [
    {
     "name": "stdout",
     "output_type": "stream",
     "text": [
      "5 4 3 2 1 0 "
     ]
    }
   ],
   "source": [
    "# 循环条件\n",
    "for i in range(5, -1, -1):\n",
    "    print(i, end=\" \")"
   ]
  },
  {
   "cell_type": "code",
   "execution_count": 7,
   "metadata": {},
   "outputs": [
    {
     "name": "stdout",
     "output_type": "stream",
     "text": [
      "-3 5\n"
     ]
    }
   ],
   "source": [
    "# 返回多个值\n",
    "def run(x, y):\n",
    "    a = x - y\n",
    "    b = x + y\n",
    "    return a, b\n",
    "\n",
    "\n",
    "c, d = run(1, 4)\n",
    "print(c, d)"
   ]
  },
  {
   "cell_type": "code",
   "execution_count": 8,
   "metadata": {},
   "outputs": [
    {
     "name": "stdout",
     "output_type": "stream",
     "text": [
      "1 6\n",
      "2 7\n",
      "3 8\n",
      "4 9\n"
     ]
    }
   ],
   "source": [
    "# 多个循环变量\n",
    "for i, j in zip(range(1, 5), range(6, 10)):\n",
    "    print(i, j)"
   ]
  },
  {
   "cell_type": "code",
   "execution_count": 9,
   "metadata": {},
   "outputs": [
    {
     "name": "stdout",
     "output_type": "stream",
     "text": [
      "default\n",
      "1\n",
      "2\n",
      "default\n",
      "default\n"
     ]
    }
   ],
   "source": [
    "def _1_():\n",
    "    print(1)\n",
    "\n",
    "\n",
    "def _2_():\n",
    "    print(2)\n",
    "\n",
    "\n",
    "def default():\n",
    "    print(\"default\")\n",
    "\n",
    "\n",
    "switch = {1: _1_, 2: _2_, -1: default}\n",
    "\n",
    "for index in range(5):\n",
    "    switch.get(index, default)()"
   ]
  },
  {
   "cell_type": "code",
   "execution_count": 10,
   "metadata": {},
   "outputs": [
    {
     "name": "stdout",
     "output_type": "stream",
     "text": [
      "<map object at 0x05ECF6F0>\n",
      "[1, 4, 9, 16, 25, 36]\n"
     ]
    }
   ],
   "source": [
    "def function(x):\n",
    "    return x * x\n",
    "\n",
    "\n",
    "tmp = map(function, [1, 2, 3, 4, 5, 6])\n",
    "print(tmp)\n",
    "print(list(tmp))"
   ]
  },
  {
   "cell_type": "code",
   "execution_count": 11,
   "metadata": {},
   "outputs": [
    {
     "name": "stdout",
     "output_type": "stream",
     "text": [
      "6\n"
     ]
    }
   ],
   "source": [
    "import functools\n",
    "\n",
    "\n",
    "def add(x, y):\n",
    "    return x + y\n",
    "\n",
    "\n",
    "data = functools.reduce(add, range(1, 4))\n",
    "print(data)"
   ]
  },
  {
   "cell_type": "code",
   "execution_count": 3,
   "metadata": {},
   "outputs": [
    {
     "output_type": "stream",
     "name": "stdout",
     "text": [
      "<list_iterator object at 0x05D410F0>\n<class 'list_iterator'>\n[1, 2, 3, 4, 5, 6]\n"
     ]
    }
   ],
   "source": [
    "data = iter([1, 2, 3, 4, 5, 6])\n",
    "print(data)\n",
    "print(type(data) )\n",
    "print(list(data))"
   ]
  },
  {
   "cell_type": "code",
   "execution_count": null,
   "metadata": {},
   "outputs": [],
   "source": [
    "data = iter(\"abc\")\n",
    "\n",
    "print(next(data))\n",
    "print(next(data))\n",
    "print(next(data))\n",
    "# print(next(data)) # 下一个元素没有了 抛出 `StopIteration` 异常"
   ]
  }
 ],
 "metadata": {
  "file_extension": ".py",
  "kernelspec": {
   "display_name": "Python 3",
   "language": "python",
   "name": "python3"
  },
  "language_info": {
   "codemirror_mode": {
    "name": "ipython",
    "version": 3
   },
   "file_extension": ".py",
   "mimetype": "text/x-python",
   "name": "python",
   "nbconvert_exporter": "python",
   "pygments_lexer": "ipython3",
   "version": "3.7.6-final"
  },
  "mimetype": "text/x-python",
  "name": "python",
  "npconvert_exporter": "python",
  "pygments_lexer": "ipython3",
  "version": 3
 },
 "nbformat": 4,
 "nbformat_minor": 4
}