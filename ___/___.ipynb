{
 "cells": [
  {
   "cell_type": "code",
   "execution_count": 1,
   "metadata": {
    "collapsed": true
   },
   "outputs": [
    {
     "name": "stdout",
     "output_type": "stream",
     "text": [
      "['Demo.ipynb', 'py.py', '_and_or_.py', '_class_', '_class_.py', '_collections_.py', '_csv_.py', '_datetime_time.py', '_float_.py', '_image_', '_itertools_.py', '_json_.py', '_logging_', '_multiprocessing_', '_os_.py', '_pickle_.py', '_print_.py', '_re_.ipynb', '_re_.py', '_shutil_.py', '_str_.py', '_subprocess_.py', '_sys_.py', '_threading_', '_thread_.py', '_type_.py', '_typing_.py', '_unittest_.py', '_xml_.py', '_yield_.py', '__init__.py', '___.ipynb', '___.py', '其他', '内置包', '函数.ipynb', '环境', '第三方包', '语法']\n"
     ]
    }
   ],
   "source": []
  }
 ],
 "metadata": {
  "kernelspec": {
   "display_name": "Python 3",
   "language": "python",
   "name": "python3"
  },
  "language_info": {
   "codemirror_mode": {
    "name": "ipython",
    "version": 3
   },
   "file_extension": ".py",
   "mimetype": "text/x-python",
   "name": "python",
   "nbconvert_exporter": "python",
   "pygments_lexer": "ipython3",
   "version": "3.7.6"
  }
 },
 "nbformat": 4,
 "nbformat_minor": 1
}