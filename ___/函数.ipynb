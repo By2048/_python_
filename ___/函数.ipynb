{
 "cells": [
  {
   "cell_type": "code",
   "execution_count": 13,
   "metadata": {
    "collapsed": false
   },
   "outputs": [],
   "source": [
    "text = 'a.b.c d e f g'\n",
    "\n",
    "# def split(self, *args, **kwargs): # real signature unknown\n",
    "#     \"\"\"\n",
    "#     Return a list of the words in the string, using sep as the delimiter string.\n",
    "#     \n",
    "#       sep\n",
    "#         The delimiter according which to split the string.\n",
    "#         None (the default value) means split according to any whitespace,\n",
    "#         and discard empty strings from the result.\n",
    "#       maxsplit\n",
    "#         Maximum number of splits to do.\n",
    "#         -1 (the default value) means no limit.\n",
    "#     \"\"\"\n",
    "#     pass"
   ]
  },
  {
   "cell_type": "code",
   "execution_count": 14,
   "metadata": {
    "collapsed": false
   },
   "outputs": [
    {
     "data": {
      "text/plain": [
       "['a.b.c', 'd', 'e', 'f', 'g']"
      ]
     },
     "execution_count": 14,
     "metadata": {},
     "output_type": "execute_result"
    }
   ],
   "source": [
    "text.split()  # 默认以空格进行分割"
   ]
  },
  {
   "cell_type": "code",
   "execution_count": 15,
   "metadata": {},
   "outputs": [
    {
     "data": {
      "text/plain": [
       "['a', 'b', 'c d e f g']"
      ]
     },
     "execution_count": 15,
     "metadata": {},
     "output_type": "execute_result"
    }
   ],
   "source": [
    "text.split('.')  # 指定拆分规则"
   ]
  },
  {
   "cell_type": "code",
   "execution_count": 12,
   "metadata": {},
   "outputs": [
    {
     "data": {
      "text/plain": [
       "['a', 'b.c d e f g']"
      ]
     },
     "execution_count": 12,
     "metadata": {},
     "output_type": "execute_result"
    }
   ],
   "source": [
    "text.split('.', 1) # 仅拆分一次"
   ]
  },
  {
   "cell_type": "code",
   "execution_count": 1,
   "metadata": {},
   "outputs": [
    {
     "output_type": "stream",
     "name": "stdout",
     "text": "this is string example....wow!!!\n"
    }
   ],
   "source": [
    "data = \"0000000this is string example....wow!!!0000000\"\n",
    "print(data.strip('0'))"
   ]
  },
  {
   "cell_type": "markdown",
   "metadata": {},
   "source": [
    "|               |                                                     |\n",
    "|---------------|-----------------------------------------------------|\n",
    "| int(x)        | 将x转换为一个整数                                   |\n",
    "| long(x)       | 将x转换为一个长整数                                 |\n",
    "| float(x )     | 将x转换到一个浮点数                                 |\n",
    "| complex(real) | 创建一个复数                                        |\n",
    "| str(x)        | 将对象 x 转换为字符串                               |\n",
    "| repr(x)       | 将对象 x 转换为表达式字符串                         |\n",
    "| eval(str)     | 用来计算在字符串中的有效Python表达式,并返回一个对象 |\n",
    "| list(s)       | 将序列 s 转换为一个列表                             |\n",
    "| unichr(x)     | 将一个整数转换为Unicode字符                         |\n",
    "| chr(x)        | 将一个整数转换为一个字符 chr(65)=A                  |\n",
    "| ord(x)        | 将一个字符转换为它的整数值 ord(\"A\")=65              |\n",
    "| hex(x)        | 将一个整数转换为一个十六进制字符串                  |\n",
    "| oct(x)        | 将一个整数转换为一个八进制字符串                    |"
   ]
  },
  {
   "cell_type": "code",
   "execution_count": 1,
   "metadata": {},
   "outputs": [
    {
     "output_type": "stream",
     "name": "stdout",
     "text": [
      "\n    你好\n    世界\n\n'\\n    你好\\n    世界\\n'\n"
     ]
    }
   ],
   "source": [
    "text = \"\"\"\n",
    "    你好\n",
    "    世界\n",
    "\"\"\"\n",
    "print(str(text))\n",
    "print(repr(text))"
   ]
  }
 ],
 "metadata": {
  "kernelspec": {
   "name": "python3",
   "display_name": "Python 3.7.6 32-bit",
   "metadata": {
    "interpreter": {
     "hash": "b5eb15ad0b3b36251a4b804c3b2899790a88b4fcc93adaa49300c06a0b75b8d0"
    }
   }
  },
  "language_info": {
   "codemirror_mode": {
    "name": "ipython",
    "version": 3
   },
   "file_extension": ".py",
   "mimetype": "text/x-python",
   "name": "python",
   "nbconvert_exporter": "python",
   "pygments_lexer": "ipython3",
   "version": "3.7.6-final"
  }
 },
 "nbformat": 4,
 "nbformat_minor": 2
}