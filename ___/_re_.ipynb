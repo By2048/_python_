{
 "cells": [
  {
   "cell_type": "code",
   "execution_count": 1,
   "metadata": {},
   "outputs": [],
   "source": [
    "import re\n",
    "import pprint\n",
    "import json\n",
    "import logging"
   ]
  },
  {
   "cell_type": "code",
   "execution_count": 2,
   "metadata": {},
   "outputs": [
    {
     "name": "stdout",
     "output_type": "stream",
     "text": [
      "(0, 3)\n",
      "None\n"
     ]
    }
   ],
   "source": [
    "print(re.match('www', 'www.qwer.com').span())  # 在起始位置匹配\n",
    "print(re.match('com', 'www.qwer.com'))  # 不在起始位置匹配"
   ]
  },
  {
   "cell_type": "code",
   "execution_count": 3,
   "metadata": {
    "collapsed": false,
    "jupyter": {
     "outputs_hidden": false
    },
    "pycharm": {
     "name": "#%%\n"
    }
   },
   "outputs": [
    {
     "name": "stdout",
     "output_type": "stream",
     "text": [
      "match.group()  :  Cats are smarter than dogs\n",
      "match.group(1) :  Cats\n",
      "match.group(2) :  smarter\n"
     ]
    }
   ],
   "source": [
    "\n",
    "line = \"Cats are smarter than dogs\"\n",
    "match = re.match(r'(.*) are (.*?) (.*)', line, re.M | re.I)\n",
    "if match:\n",
    "    print(\"match.group()  : \", match.group())\n",
    "    print(\"match.group(1) : \", match.group(1))\n",
    "    print(\"match.group(2) : \",     match.group(2))\n",
    "else:\n",
    "    print(\"No match!!\")"
   ]
  },
  {
   "cell_type": "code",
   "execution_count": 4,
   "metadata": {
    "collapsed": true,
    "jupyter": {
     "outputs_hidden": true
    }
   },
   "outputs": [
    {
     "name": "stdout",
     "output_type": "stream",
     "text": [
      "(0, 3)\n",
      "(9, 12)\n"
     ]
    }
   ],
   "source": [
    "# re.search(pattern, string, flags=0)\n",
    "print(re.search('www', 'www.1234.com').span())  # 在起始位置匹配\n",
    "print(re.search('com', 'www.1234.com').span())  # 不在起始位置匹配"
   ]
  },
  {
   "cell_type": "code",
   "execution_count": 5,
   "metadata": {
    "collapsed": true,
    "jupyter": {
     "outputs_hidden": true
    },
    "pycharm": {
     "name": "#%%\n"
    }
   },
   "outputs": [
    {
     "name": "stdout",
     "output_type": "stream",
     "text": [
      "searchObj.group()  :  Cats are smarter than dogs\n",
      "searchObj.group(1) :  Cats\n",
      "searchObj.group(2) :  smarter\n"
     ]
    }
   ],
   "source": [
    "line = \"Cats are smarter than dogs\"\n",
    "searchObj = re.search(r'(.*) are (.*?) (.*)', line, re.M | re.I)\n",
    "if searchObj:\n",
    "    print(\"searchObj.group()  : \", searchObj.group())\n",
    "    print(\"searchObj.group(1) : \", searchObj.group(1))\n",
    "    print(\"searchObj.group(2) : \", searchObj.group(2))\n",
    "else:\n",
    "    print(\"Nothing found!!\")"
   ]
  },
  {
   "cell_type": "code",
   "execution_count": 6,
   "metadata": {
    "collapsed": true,
    "jupyter": {
     "outputs_hidden": true
    }
   },
   "outputs": [
    {
     "name": "stdout",
     "output_type": "stream",
     "text": [
      "No match!!\n",
      "search --> matchObj.group() :  dogs\n"
     ]
    }
   ],
   "source": [
    "# re.match 只匹配字符串的开始，如果字符串开始不符合正则表达式，则匹配失败，函数返回 None\n",
    "# re.search 匹配整个字符串，直到找到一个匹配\n",
    "\n",
    "line = \"Cats are smarter than dogs\"\n",
    "\n",
    "matchObj = re.match(r'dogs', line, re.M | re.I)\n",
    "if matchObj:\n",
    "    print(\"match --> matchObj.group() : \", matchObj.group())\n",
    "else:\n",
    "    print(\"No match!!\")\n",
    "\n",
    "matchObj = re.search(r'dogs', line, re.M | re.I)\n",
    "if matchObj:\n",
    "    print(\"search --> matchObj.group() : \", matchObj.group())\n",
    "else:\n",
    "    print(\"No match!!\")"
   ]
  },
  {
   "cell_type": "markdown",
   "metadata": {
    "pycharm": {
     "name": "#%% md\n"
    }
   },
   "source": [
    "## 参数\n",
    "\n",
    "|               |                                                                            |\n",
    "|   ---------   |   ----------------------------------------------------------------------   |\n",
    "|   参数        |   描述                                                                     |\n",
    "|   `pattern`   |   匹配的正则表达式                                                         |\n",
    "|   `string`    |   要匹配的字符串。                                                         |\n",
    "|   `flags`     |   标志位，用于控制正则表达式的匹配方式，如：是否区分大小写，多行匹配等等   |\n",
    "\n",
    "\n",
    "|            |                                                                    |\n",
    "|   ------   |   --------------------------------------------------------------   |\n",
    "|   修饰符   |   描述                                                             |\n",
    "|   `re.I`   |   使匹配对大小写不敏感                                             |\n",
    "|   `re.L`   |   做本地化识别（locale-aware）匹配                                 |\n",
    "|   `re.M`   |   多行匹配，影响 ^ 和 $                                            |\n",
    "|   `re.S`   |   使 . 匹配包括换行在内的所有字符                                  |\n",
    "|   `re.U`   |   根据Unicode字符集解析字符。这个标志影响 `\\w`,` \\W`, `\\b`, `\\B`   |\n",
    "|   `re.X`   |   该标志通过给予你更灵活的格式以便你将正则表达式写得更易于理解。   |\n",
    "\n",
    "\n",
    "可以使用`group(num)` 或 `groups()` 匹配对象函数来获取匹配表达式。\n",
    "\n",
    "|                    |                                                                               |\n",
    "|   --------------   |   ---------------------------------------------------------                   |\n",
    "|   匹配对象方法     |   描述                                                                        |\n",
    "|   `group(num=0)`   |   匹配的整个表达式的字符串，`group()`                                         |\n",
    "|                    |   可以一次输入多个组号，在这种情况下它 将返回一个包含那些组所对应值的元组。   |\n",
    "|   `groups()`       |   返回一个包含所有小组字符串的元组，从 1 到 所含的小组号。                    |\n",
    "\n",
    "|                           |                                                                                                        |\n",
    "|   ---------------------   |   --------------------------------------------------------------------------------------------------   |\n",
    "|   `group([group1, …]`)   |   获得一个或多个分组匹配的字符串，当要获得整个匹配的子串时，可直接使用 `group()` 或 `group(0)`         |\n",
    "|   `start([group])`        |   获取分组匹配的子串在整个字符串中的起始位置（子串第一个字符的索引），参数默认值为 0；                 |\n",
    "|   `end([group])`          |   获取分组匹配的子串在整个字符串中的结束位置（子串最后一个字符的索引+1），参数默认值为 0；             |\n",
    "|   `span([group])`         |   方法返回 `(start(group), end(group))`                                                                |\n"
   ]
  },
  {
   "cell_type": "code",
   "execution_count": 7,
   "metadata": {
    "collapsed": true,
    "jupyter": {
     "outputs_hidden": true
    }
   },
   "outputs": [
    {
     "name": "stdout",
     "output_type": "stream",
     "text": [
      "123-456-789 \n",
      "123456789\n"
     ]
    }
   ],
   "source": [
    "# re.sub(pattern, repl, string, count=0, flags=0)\n",
    "# pattern   正则中的模式字符串。\n",
    "# repl      替换的字符串，也可为一个函数。\n",
    "# string    要被查找替换的原始字符串。\n",
    "# count     模式匹配后替换的最大次数，默认 0 表示替换所有的匹配。\n",
    "\n",
    "phone = \"123-456-789 # 这是一个电话号码\"\n",
    "\n",
    "print(re.sub(r'#.*$', \"\", phone))\n",
    "print(re.sub(r'\\D', \"\", phone))"
   ]
  },
  {
   "cell_type": "code",
   "execution_count": 8,
   "metadata": {
    "collapsed": true,
    "jupyter": {
     "outputs_hidden": true
    }
   },
   "outputs": [
    {
     "name": "stdout",
     "output_type": "stream",
     "text": [
      "A2222G8HFD4444\n"
     ]
    }
   ],
   "source": [
    "def double(matched):\n",
    "    \"\"\"将匹配的数字*2\n",
    "    :param matched: 传入的匹配的参数 value\n",
    "    :return: str 类型的 value*2\n",
    "    \"\"\"\n",
    "    value = int(matched.group('value'))\n",
    "    return str(value * 2)\n",
    "\n",
    "\n",
    "s = 'A1111G4HFD2222'\n",
    "print(re.sub('(?P<value>\\d+)', double, s))"
   ]
  },
  {
   "cell_type": "code",
   "execution_count": 9,
   "metadata": {
    "collapsed": true,
    "jupyter": {
     "outputs_hidden": true
    }
   },
   "outputs": [
    {
     "name": "stdout",
     "output_type": "stream",
     "text": [
      "1 None\n",
      "2 None\n",
      "3 <re.Match object; span=(3, 5), match='12'>\n",
      "1 12\n",
      "2 3\n",
      "3 5\n",
      "4 (3, 5)\n"
     ]
    }
   ],
   "source": [
    "# 编译表达式 re.compile(pattern[, flags])\n",
    "\n",
    "# pattern   一个字符串形式的正则表达式\n",
    "# flags     可选，表示匹配模式，比如忽略大小写，多行模式等，具体参数为\n",
    "#     re.I    忽略大小写\n",
    "#     re.L    表示特殊字符集 `\\w`, `\\W`, `\\b`, `\\B`, `\\s`,`\\S` 依赖于当前环境\n",
    "#     re.M    多行模式\n",
    "#     re.S    即为 . 并且包括换行符在内的任意字符（. 不包括换行符）\n",
    "#     re.U    表示特殊字符集 `\\w`, `\\W`, `\\b`, `\\B`, `\\d`, `\\D`, `\\s`, `\\S`     依赖于 Unicode 字符属性据库\n",
    "#     re.X   为了增加可读性，忽略空格和 # 后面的注释\n",
    "\n",
    "pattern = re.compile(r'\\d+')\n",
    "\n",
    "math_item = pattern.match('one12twothree34four')\n",
    "print(1, math_item)\n",
    "\n",
    "math_item = pattern.match('one12twothree34four', 2, 10)\n",
    "print(2, math_item)\n",
    "\n",
    "math_item = pattern.match('one12twothree34four', 3, 10)\n",
    "print(3, math_item)  # 返回一个 Match 对象\n",
    "\n",
    "# 可省略 0\n",
    "print(1, math_item.group(0))\n",
    "print(2, math_item.start(0))\n",
    "print(3, math_item.end(0))\n",
    "print(4, math_item.span(0))"
   ]
  },
  {
   "cell_type": "code",
   "execution_count": 10,
   "metadata": {
    "collapsed": true,
    "jupyter": {
     "outputs_hidden": true
    }
   },
   "outputs": [
    {
     "name": "stdout",
     "output_type": "stream",
     "text": [
      "1 <re.Match object; span=(0, 11), match='Hello World'>\n",
      "1 Hello World\n",
      "1 (0, 11)\n",
      "2 Hello\n",
      "2 (0, 5)\n",
      "3 World\n",
      "3 (6, 11)\n",
      "4 ('Hello', 'World')\n"
     ]
    }
   ],
   "source": [
    "pattern = re.compile(r'([a-z]+) ([a-z]+)', re.I)\n",
    "math_item = pattern.match('Hello World Wide Web')\n",
    "\n",
    "print(1, math_item)  # 匹配成功，返回一个 Match 对象\n",
    "print(1, math_item.group(0))  # 返回匹配成功的整个子串\n",
    "print(1, math_item.span(0))  # 返回匹配成功的整个子串的索引\n",
    "\n",
    "print(2, math_item.group(1))  # 返回第一个分组匹配成功的子串\n",
    "print(2, math_item.span(1))  # 返回第一个分组匹配成功的子串的索引\n",
    "\n",
    "print(3, math_item.group(2))  # 返回第二个分组匹配成功的子串\n",
    "print(3, math_item.span(2))  # 返回第二个分组匹配成功的子串\n",
    "\n",
    "print(4, math_item.groups())  # 等价于 (m.group(1), m.group(2), ...)"
   ]
  },
  {
   "cell_type": "code",
   "execution_count": 11,
   "metadata": {
    "collapsed": true,
    "jupyter": {
     "outputs_hidden": true
    }
   },
   "outputs": [
    {
     "name": "stdout",
     "output_type": "stream",
     "text": [
      "no such group\n",
      "1 ['123', '456']\n",
      "1 ['88', '12']\n",
      "2 <callable_iterator object at 0x06586070>\n",
      "3 12\n",
      "3 32\n",
      "3 43\n",
      "3 3\n"
     ]
    }
   ],
   "source": [
    "\n",
    "try:\n",
    "    item = math_item.group(3)  # 不存在第三个分组\n",
    "except IndexError as e:\n",
    "    print(e)\n",
    "\n",
    "# 查找所有 re.findall(string[, pos[, endpos]])\n",
    "#     string   待匹配的字符串。\n",
    "#     pos      可选参数，指定字符串的起始位置，默认为 0。\n",
    "#     endpos   可选参数，指定字符串的结束位置，默认为字符串的长度\n",
    "\n",
    "pattern = re.compile(r'\\d+')\n",
    "print(1, pattern.findall('qwer 123 google 456'))\n",
    "print(1, pattern.findall('qwe88rty123456google456', 0, 10))\n",
    "\n",
    "# 查找所有 `re.finditer` 和 `re.findall` 类似，在字符串中找到正则表达式所匹配的所有子串，并把它们作为一个迭代器返回。\n",
    "\n",
    "matchs = re.finditer(r\"\\d+\", \"12a32bc43jf3\")\n",
    "print(2, matchs)\n",
    "for item in matchs:\n",
    "    print(3, item.group())"
   ]
  },
  {
   "cell_type": "code",
   "execution_count": 12,
   "metadata": {
    "collapsed": true,
    "jupyter": {
     "outputs_hidden": true
    }
   },
   "outputs": [
    {
     "name": "stdout",
     "output_type": "stream",
     "text": [
      "1 ['runoob', 'runoob', 'runoob', '']\n",
      "2 ['', ' ', 'runoob', ', ', 'runoob', ', ', 'runoob', '.', '']\n",
      "3 ['', 'runoob, runoob, runoob.']\n",
      "4 ['', 'h', 'e', 'l', 'l', 'o', ' ', 'w', 'o', 'r', 'l', 'd', '']\n"
     ]
    }
   ],
   "source": [
    "\n",
    "# 分割 re.split(pattern, string[, maxsplit=0, flags=0])\n",
    "#     maxsplit 分隔次数，maxsplit = 1 分隔一次，默认为0，不限制次数\n",
    "\n",
    "print(1, re.split('\\W+', 'runoob, runoob, runoob.'))\n",
    "print(2, re.split('(\\W+)', ' runoob, runoob, runoob.'))\n",
    "\n",
    "print(3, re.split('\\W+', ' runoob, runoob, runoob.', 1))\n",
    "\n",
    "print(4, re.split('a*', 'hello world'))  # 对于一个找不到匹配的字符串而言，split 不会对其作出分割"
   ]
  },
  {
   "cell_type": "markdown",
   "metadata": {},
   "source": [
    "## 其他\n",
    "```\n",
    "re.RegexObject\n",
    "re.compile()\n",
    "返回\n",
    "RegexObject\n",
    "对象。\n",
    "\n",
    "re.MatchObject\n",
    "group()\n",
    "返回被\n",
    "RE\n",
    "匹配的字符串。\n",
    "```\n"
   ]
  },
  {
   "cell_type": "code",
   "execution_count": 13,
   "metadata": {
    "collapsed": true,
    "jupyter": {
     "outputs_hidden": true
    }
   },
   "outputs": [
    {
     "name": "stdout",
     "output_type": "stream",
     "text": [
      "1 ['电影天堂www.dy2018.com']\n",
      "1 ['电影天堂www.dy2018.com']\n",
      "3 ['某某内容']\n"
     ]
    }
   ],
   "source": [
    "dytt_title = \".*\\[(.*)\\].*\"\n",
    "\n",
    "name_0 = r\"罗拉快跑BD国德双语中字[电影天堂www.dy2018.com].mkv\"\n",
    "name_1 = r\"[电影天堂www.dy2018.com]罗拉快跑BD国德双语中字.mkv\"\n",
    "\n",
    "print(1, re.findall(dytt_title, name_0))\n",
    "print(1, re.findall(dytt_title, name_1))\n",
    "\n",
    "data = \"xxxxxxxxxxxentry某某内容for-----------\"\n",
    "result = re.findall(\".*entry(.*)for.*\", data)\n",
    "print(3, result)"
   ]
  },
  {
   "cell_type": "code",
   "execution_count": 13,
   "metadata": {},
   "outputs": [],
   "source": []
  }
 ],
 "metadata": {
  "kernelspec": {
   "display_name": "Python 3",
   "language": "python",
   "name": "python3"
  },
  "language_info": {
   "codemirror_mode": {
    "name": "ipython",
    "version": 3
   },
   "file_extension": ".py",
   "mimetype": "text/x-python",
   "name": "python",
   "nbconvert_exporter": "python",
   "pygments_lexer": "ipython3",
   "version": "3.7.6"
  }
 },
 "nbformat": 4,
 "nbformat_minor": 4
}