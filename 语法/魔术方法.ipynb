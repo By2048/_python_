{
 "cells": [
  {
   "cell_type": "code",
   "execution_count": 2,
   "metadata": {
    "collapsed": true,
    "pycharm": {
     "is_executing": false
    }
   },
   "outputs": [
    {
     "output_type": "stream",
     "name": "stdout",
     "text": "-7\n"
    }
   ],
   "source": [
    "# @这个符号的设定是用于矩阵乘法\n",
    "\n",
    "\n",
    "class Point:\n",
    "    def __init__(self, x, y):\n",
    "        self.x = x  # x坐标\n",
    "        self.y = y  # y坐标\n",
    "\n",
    "    def __matmul__(self, other):\n",
    "        x = self.x - other.x\n",
    "        y = self.y - other.y\n",
    "        return x + y\n",
    "\n",
    "\n",
    "a = Point(1, 1)\n",
    "b = Point(4, 5)\n",
    "\n",
    "print(a @ b)\n",
    ""
   ]
  },
  {
   "cell_type": "raw",
   "source": [
    "@ 12\n",
    "# 12312321\n",
    "123213\n",
    "123123213"
   ],
   "metadata": {
    "collapsed": false
   }
  }
 ],
 "metadata": {
  "kernelspec": {
   "display_name": "Python 3",
   "language": "python",
   "name": "python3"
  },
  "language_info": {
   "codemirror_mode": {
    "name": "ipython",
    "version": 2
   },
   "file_extension": ".py",
   "mimetype": "text/x-python",
   "name": "python",
   "nbconvert_exporter": "python",
   "pygments_lexer": "ipython2",
   "version": "3.8.1-final"
  },
  "pycharm": {
   "stem_cell": {
    "cell_type": "raw",
    "source": [],
    "metadata": {
     "collapsed": false
    }
   }
  }
 },
 "nbformat": 4,
 "nbformat_minor": 0
}