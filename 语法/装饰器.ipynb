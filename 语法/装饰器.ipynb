{
 "cells": [
  {
   "cell_type": "code",
   "execution_count": 2,
   "metadata": {},
   "outputs": [
    {
     "output_type": "stream",
     "name": "stdout",
     "text": "name:test\n"
    }
   ],
   "source": [
    "def log(function):\n",
    "    \"\"\" 记录函数名 \"\"\"\n",
    "\n",
    "    def inner(*args, **kwargs):\n",
    "        print(f\"name:{function.__name__}\")\n",
    "        result = function(*args, **kwargs)\n",
    "        return result\n",
    "\n",
    "    return inner\n",
    "\n",
    "\n",
    "@log\n",
    "def test():\n",
    "    pass\n",
    "\n",
    "\n",
    "test()"
   ]
  },
  {
   "cell_type": "code",
   "execution_count": 1,
   "metadata": {},
   "outputs": [
    {
     "output_type": "stream",
     "name": "stdout",
     "text": "0.0608372688293457\n499999500000\n\n0.044879913330078125\n499999500000\n"
    }
   ],
   "source": [
    "import time\n",
    "\n",
    "\n",
    "def run_time(function):\n",
    "    \"\"\" 函数运行时间 \"\"\"\n",
    "\n",
    "    def inner(*args, **kwargs):\n",
    "        start_time = time.time()\n",
    "        result = function(*args, **kwargs)\n",
    "        end_time = time.time()\n",
    "        print(end_time - start_time)\n",
    "        return result\n",
    "\n",
    "    return inner\n",
    "\n",
    "\n",
    "@run_time\n",
    "def test_1():\n",
    "    tmp = 0\n",
    "    for i in range(1000000):\n",
    "        tmp += i\n",
    "    return tmp\n",
    "\n",
    "\n",
    "@run_time\n",
    "def test_2():\n",
    "    return sum(range(1000000))\n",
    "\n",
    "\n",
    "print(test_1())\n",
    "print()\n",
    "print(test_2())"
   ]
  },
  {
   "cell_type": "code",
   "execution_count": 1,
   "metadata": {
    "collapsed": true
   },
   "outputs": [
    {
     "output_type": "stream",
     "name": "stdout",
     "text": "decorator fun\nfun\n----------------------------------------------------------------------------------------------------\ndecorator fun\nfun\n"
    }
   ],
   "source": [
    "# 自定义的修饰器.\n",
    "# 一个不带参数的装饰器:\n",
    "def decorator(fun):\n",
    "    print('decorator fun')\n",
    "    return fun\n",
    "\n",
    "@decorator\n",
    "def fun():\n",
    "    print('fun')\n",
    "\n",
    "fun()\n",
    "\n",
    "print('-' * 100)\n",
    "\n",
    "# 上面这段代码就等于下面的实现:\n",
    "def fun():\n",
    "    print('fun')\n",
    "decorator(fun)()\n",
    ""
   ]
  },
  {
   "cell_type": "code",
   "execution_count": 2,
   "metadata": {
    "collapsed": true
   },
   "outputs": [
    {
     "output_type": "stream",
     "name": "stdout",
     "text": "Amrzs\n() {}\ninner\nfun\n"
    }
   ],
   "source": [
    "def test_decorator(name):\n",
    "    print(name)\n",
    "    def decorator(function):\n",
    "        def inner(*args, **kwargs):\n",
    "            print(args, kwargs)\n",
    "            print('inner')\n",
    "            function(*args, **kwargs)\n",
    "        return inner\n",
    "    return decorator\n",
    "\n",
    "# 而带有参数的装饰器\n",
    "@test_decorator('Amrzs')\n",
    "def fun():\n",
    "    print('fun')\n",
    "\n",
    "fun()\n",
    "\n",
    "# # 这段代码就等于下面的实现:\n",
    "# fun = decorator('Amrzs')(func)\n",
    ""
   ]
  },
  {
   "cell_type": "code",
   "execution_count": 3,
   "metadata": {
    "collapsed": false
   },
   "outputs": [
    {
     "output_type": "stream",
     "name": "stdout",
     "text": "0 4 False\n1 test\n2 (123, 'qwe') {}\n3 {\n    \"status\": \"done\"\n}\n"
    }
   ],
   "source": [
    "import json\n",
    "import functools\n",
    "\n",
    "def json_output(indent=None, sort_keys=False):\n",
    "    print(0, indent, sort_keys)\n",
    "    def decorator(function):\n",
    "        @functools.wraps(function)\n",
    "        def inner(*args, **kwargs):\n",
    "            print(1, function.__name__)\n",
    "            print(2, args, kwargs)\n",
    "            result = function(*args, **kwargs)\n",
    "            return json.dumps(result, indent=indent, sort_keys=sort_keys)\n",
    "\n",
    "        return inner\n",
    "\n",
    "    return decorator\n",
    "\n",
    "\n",
    "@json_output(indent=4)\n",
    "def test(name, sex):\n",
    "    return {'status': 'done'}\n",
    "\n",
    "\n",
    "print(3, test(123, 'qwe'))\n",
    ""
   ]
  },
  {
   "cell_type": "code",
   "execution_count": 4,
   "metadata": {},
   "outputs": [
    {
     "output_type": "stream",
     "name": "stdout",
     "text": "1 (1, 2, 3)\n2 inner\n3 test\n"
    }
   ],
   "source": [
    "# 类的装饰器\n",
    "\n",
    "def test_decorator(*args):\n",
    "    print(1, args)\n",
    "    def decorator(function):\n",
    "        def inner(self):\n",
    "            print(2, 'inner')\n",
    "            function(self)\n",
    "        return inner\n",
    "    return decorator\n",
    "\n",
    "class A(object):\n",
    "    @test_decorator(1, 2, 3)\n",
    "    def test(self):\n",
    "        print(3, 'test')\n",
    "\n",
    "\n",
    "a = A()\n",
    "a.test()\n",
    ""
   ]
  },
  {
   "cell_type": "code",
   "execution_count": 5,
   "metadata": {},
   "outputs": [
    {
     "output_type": "stream",
     "name": "stdout",
     "text": "0 4 False\n2 (123, 'qwe') {}\n3 None\n"
    }
   ],
   "source": [
    "def json_output(indent=None, sort_keys=False):\n",
    "    # 处理装饰器参数\n",
    "    print(0, indent, sort_keys)\n",
    "\n",
    "    def a(f):\n",
    "        # 处理函数\n",
    "        def b(*args, **kwargs):\n",
    "            # 处理参数\n",
    "            print(2, args, kwargs)\n",
    "            f(*args, **kwargs)\n",
    "        return b\n",
    "    return a\n",
    "\n",
    "@json_output(indent=4)\n",
    "def test(name='qwe', value=123):\n",
    "    return {'status': 'done'}\n",
    "\n",
    "\n",
    "print(3, test(123, 'qwe'))\n",
    ""
   ]
  },
  {
   "cell_type": "code",
   "execution_count": 7,
   "metadata": {},
   "outputs": [
    {
     "output_type": "stream",
     "name": "stdout",
     "text": "5\n8\n1\n4\n2\n6\nfoo\n7\n3\n"
    }
   ],
   "source": [
    "\n",
    "# an example of python decorator\n",
    "def deco1(func):\n",
    "    print(1)\n",
    "\n",
    "    def wrapper1():\n",
    "        print(2)\n",
    "        func()\n",
    "        print(3)\n",
    "    print(4)\n",
    "    return wrapper1\n",
    "\n",
    "\n",
    "def deco2(func):\n",
    "    print(5)\n",
    "\n",
    "    def wrapper2():\n",
    "        print(6)\n",
    "        func()\n",
    "        print(7)\n",
    "    print(8)\n",
    "    return wrapper2\n",
    "\n",
    "\n",
    "@deco1\n",
    "@deco2\n",
    "def foo():\n",
    "    print('foo')\n",
    "\n",
    "\n",
    "if __name__ == '__main__':\n",
    "    foo()\n",
    ""
   ]
  }
 ],
 "metadata": {
  "kernelspec": {
   "display_name": "Python 3.8.2 32-bit ('_python_': venv)",
   "language": "python",
   "name": "python38232bitpythonvenv950369df46704df0a574ed247563cd7e"
  },
  "language_info": {
   "codemirror_mode": {
    "name": "ipython",
    "version": 2
   },
   "file_extension": ".py",
   "mimetype": "text/x-python",
   "name": "python",
   "nbconvert_exporter": "python",
   "pygments_lexer": "ipython2",
   "version": "3.8.2-final"
  }
 },
 "nbformat": 4,
 "nbformat_minor": 0
}