{
 "cells": [
  {
   "cell_type": "markdown",
   "metadata": {
    "collapsed": true
   },
   "source": [
    "类的继承 [Python3 super()多重继承笔记](https://www.4linuxfun.com/python3-super-multiple-inheritance/)\n"
   ]
  },
  {
   "cell_type": "code",
   "execution_count": 1,
   "metadata": {
    "collapsed": true
   },
   "outputs": [
    {
     "name": "stdout",
     "output_type": "stream",
     "text": [
      "go A go!\nstop A stop!\nwait A wait!\n1 ----------------------------------------------------------------------------------------------------\ngo A go!\ngo B go!\nstop A stop!\nwait A wait!\n2 ----------------------------------------------------------------------------------------------------\ngo A go!\ngo C go!\nstop A stop!\nstop C stop!\nwait A wait!\n3 ----------------------------------------------------------------------------------------------------\ngo A go!\ngo C go!\ngo B go!\ngo D go!\nstop A stop!\nstop C stop!\nstop D stop!\nwait D wait!\n4 ----------------------------------------------------------------------------------------------------\ngo A go!\ngo C go!\ngo B go!\nstop A stop!\nstop C stop!\nwait A wait!\n5 ----------------------------------------------------------------------------------------------------\ngo A go!\ngo C go!\ngo B go!\ngo D go!\nstop A stop!\nstop C stop!\nstop D stop!\nwait D wait!\n6 ----------------------------------------------------------------------------------------------------\n1 [<class '__main__.A'>, <class 'object'>]\n2 [<class '__main__.B'>, <class '__main__.A'>, <class 'object'>]\n3 [<class '__main__.C'>, <class '__main__.A'>, <class 'object'>]\n4 [<class '__main__.D'>, <class '__main__.B'>, <class '__main__.C'>, <class '__main__.A'>, <class 'object'>]\n5 [<class '__main__.E'>, <class '__main__.B'>, <class '__main__.C'>, <class '__main__.A'>, <class 'object'>]\n6 [<class '__main__.F'>, <class '__main__.D'>, <class '__main__.B'>, <class '__main__.C'>, <class '__main__.A'>, <class 'object'>]\n"
     ]
    }
   ],
   "source": [
    "class A(object):\n",
    "    def go(self):\n",
    "        print(\"go A go!\")\n",
    "\n",
    "    def stop(self):\n",
    "        print(\"stop A stop!\")\n",
    "\n",
    "    def pause(self):\n",
    "        print(\"wait A wait!\")\n",
    "        # raise Exception(\"Not Implemented\")\n",
    "\n",
    "\n",
    "class B(A):\n",
    "    def go(self):\n",
    "        super().go()\n",
    "        print(\"go B go!\")\n",
    "\n",
    "\n",
    "class C(A):\n",
    "    def go(self):\n",
    "        super().go()\n",
    "        print(\"go C go!\")\n",
    "\n",
    "    def stop(self):\n",
    "        super().stop()\n",
    "        print(\"stop C stop!\")\n",
    "\n",
    "\n",
    "class D(B, C):\n",
    "    def go(self):\n",
    "        super().go()\n",
    "        print(\"go D go!\")\n",
    "\n",
    "    def stop(self):\n",
    "        super().stop()\n",
    "        print(\"stop D stop!\")\n",
    "\n",
    "    def pause(self):\n",
    "        print(\"wait D wait!\")\n",
    "\n",
    "\n",
    "class E(B, C):\n",
    "    pass\n",
    "\n",
    "\n",
    "class F(D, C):\n",
    "    pass\n",
    "\n",
    "\n",
    "a = A()\n",
    "b = B()\n",
    "c = C()\n",
    "d = D()\n",
    "e = E()\n",
    "f = F()\n",
    "\n",
    "a.go()\n",
    "a.stop()\n",
    "a.pause()\n",
    "print(1, '-' * 100)\n",
    "\n",
    "b.go()\n",
    "b.stop()\n",
    "b.pause()\n",
    "print(2, '-' * 100)\n",
    "\n",
    "c.go()\n",
    "c.stop()\n",
    "c.pause()\n",
    "print(3, '-' * 100)\n",
    "\n",
    "d.go()\n",
    "d.stop()\n",
    "d.pause()\n",
    "print(4, '-' * 100)\n",
    "\n",
    "e.go()\n",
    "e.stop()\n",
    "e.pause()\n",
    "print(5, '-' * 100)\n",
    "\n",
    "f.go()\n",
    "f.stop()\n",
    "f.pause()\n",
    "print(6, '-' * 100)\n",
    "\n",
    "print(1, A.mro())\n",
    "print(2, B.mro())\n",
    "print(3, C.mro())\n",
    "print(4, D.mro())\n",
    "print(5, E.mro())\n",
    "print(6, F.mro())\n",
    "\n",
    "# a a\n",
    "# b c   a\n",
    "#  d    c\n",
    "#    f\n"
   ]
  },
  {
   "cell_type": "code",
   "execution_count": 20,
   "metadata": {
    "collapsed": true
   },
   "outputs": [
    {
     "ename": "SyntaxError",
     "evalue": "invalid syntax (<ipython-input-25-d20705b1479e>, line 3)",
     "traceback": [
      "\u001b[0;36m  File \u001b[0;32m\"<ipython-input-25-d20705b1479e>\"\u001b[0;36m, line \u001b[0;32m3\u001b[0m\n\u001b[0;31m    |                 |                                |\u001b[0m\n\u001b[0m    ^\u001b[0m\n\u001b[0;31mSyntaxError\u001b[0m\u001b[0;31m:\u001b[0m invalid syntax\n"
     ],
     "output_type": "error"
    }
   ],
   "source": [
    "class UserInfo(object):\n",
    "    name = 'name_1'\n",
    "\n",
    "\n",
    "class X:\n",
    "    pass\n",
    "\n",
    "\n",
    "print(1, X.__class__)\n",
    "print(2, X.__class__.__base__)\n"
   ]
  },
  {
   "cell_type": "code",
   "execution_count": null,
   "metadata": {
    "collapsed": true
   },
   "outputs": [
    {
     "ename": "SyntaxError",
     "evalue": "invalid syntax (<ipython-input-25-d20705b1479e>, line 3)",
     "traceback": [
      "\u001b[0;36m  File \u001b[0;32m\"<ipython-input-25-d20705b1479e>\"\u001b[0;36m, line \u001b[0;32m3\u001b[0m\n\u001b[0;31m    |                 |                                |\u001b[0m\n\u001b[0m    ^\u001b[0m\n\u001b[0;31mSyntaxError\u001b[0m\u001b[0;31m:\u001b[0m invalid syntax\n"
     ],
     "output_type": "error"
    }
   ],
   "source": [
    "import pprint\n",
    "\n",
    "\n",
    "class UserInfo(object):\n",
    "    def __init__(self, name, age, account):\n",
    "        self.name = name\n",
    "        self._age = age\n",
    "        self.__account = account\n",
    "\n",
    "    def get_account(self):\n",
    "        return self.__account\n",
    "\n",
    "\n",
    "if __name__ == '__main__':\n",
    "    userInfo = UserInfo('name_1', 20, 123456)\n",
    "    print(1, dir(userInfo))\n",
    "    print(2, userInfo.__dict__)\n",
    "    print(3, userInfo.get_account())\n",
    "    print(4, userInfo._UserInfo__account)\n"
   ]
  },
  {
   "cell_type": "markdown",
   "metadata": {
    "collapsed": true
   },
   "source": [
    "|   function      |   info                         |\n",
    "|   :----------   |   :-------------------------   |\n",
    "|   方法          |   说明                         |\n",
    "|   __init__      |   构造函数，在生成对象时调用   |\n",
    "|   __del__       |   析构函数，释放对象时使用     |\n",
    "|   __repr__      |   打印，转换                   |\n",
    "|   __setitem__   |   按照索引赋值                 |\n",
    "|   __getitem__   |   按照索引获取值               |\n",
    "|   __len__       |   获得长度                     |\n",
    "|   __cmp__       |   比较运算                     |\n",
    "|   __call__      |   函数调用                     |\n",
    "|   __add__       |   加运算                       |\n",
    "|   __sub__       |   减运算                       |\n",
    "|   __mul__       |   乘运算                       |\n",
    "|   __div__       |   除运算                       |\n",
    "|   __mod__       |   求余运算                     |\n",
    "|   __pow__       |   乘方                         |\n",
    "\n",
    "\n",
    "\n",
    "`type(obj)`：来获取对象的相应类型；\n",
    "`isinstance(obj, type)`：判断对象是否为指定的 type 类型的实例；\n",
    "`hasattr(obj, attr)`：判断对象是否具有指定属性/方法；\n",
    "`getattr(obj, attr[, default])` 获取属性/方法的值, 要是没有对应的属性则返回 default 值（前提是设置了 default），否则会抛出 AttributeError 异常；\n",
    "`setattr(obj, attr, value)`：设定该属性/方法的值，类似于 obj.attr=value；\n",
    "`dir(obj)`：可以获取相应对象的所有属性和方法名的列表：\n",
    "\n",
    "classmethod：类方法 \n",
    "staticmethod：静态方法\n",
    "\n",
    "对于类方法，可以通过类来调用，就像C.f()\n",
    "也可以通过类的一个实例来调用，就像C().f()\n",
    "这里C()，写成这样之后它就是类的一个实例了。\n",
    "\n",
    "静态方法则没有，它基本上跟一个全局函数相同，一般来说用的很少\n",
    "\n",
    "`@classmethod`\n",
    "它表示接下来的是一个类方法，而对于平常我们见到的则叫做实例方法。 类方法的第一个参数cls，而实例方法的第一个参数是self，表示该类的一个实例。\n",
    "类方法有类变量cls传入，从而可以用cls做一些相关的处理。并且有子类继承时，调用该类方法时，传入的类变量cls是子类，而非父类。\n",
    "\n",
    "`@property`\n",
    "可以像访问属性一样调用方法"
   ]
  },
  {
   "cell_type": "code",
   "execution_count": null,
   "metadata": {},
   "outputs": [],
   "source": [
    "# super 指的是 MRO 中的下一个类！\n",
    "# def super(cls, inst):\n",
    "#     mro = inst.__class__.mro()\n",
    "#     return mro[mro.index(cls) + 1]\n",
    "# 两个参数 cls 和 inst 分别做了两件事：\n",
    "# inst 负责生成 MRO 的 list\n",
    "# cls 定位当前 MRO 中的 index, 并返回 mro[index + 1]\n",
    "# MRO 全称 Method Resolution Order，它代表了类继承的顺序。\n",
    "\n",
    "class Root(object):\n",
    "    def __init__(self):\n",
    "        print(\"this is Root\")\n",
    "\n",
    "\n",
    "class B(Root):\n",
    "    def __init__(self):\n",
    "        print(\"enter B\")\n",
    "        # print(self)  # this will print <__main__.D object at 0x...>\n",
    "        super(B, self).__init__()\n",
    "        print(\"leave B\")\n",
    "\n",
    "\n",
    "class C(Root):\n",
    "    def __init__(self):\n",
    "        print(\"enter C\")\n",
    "        super(C, self).__init__()\n",
    "        print(\"leave C\")\n",
    "\n",
    "\n",
    "class D(B, C):\n",
    "    pass\n",
    "\n",
    "\n",
    "d = D()\n",
    "d.__class__.__mro__\n",
    "\n"
   ]
  },
  {
   "cell_type": "code",
   "execution_count": 46,
   "metadata": {
    "collapsed": true
   },
   "outputs": [
    {
     "name": "stdout",
     "output_type": "stream",
     "text": [
      "5\n20\n"
     ]
    }
   ],
   "source": [
    "class UserInfo(object):\n",
    "    count = 5\n",
    "\n",
    "    def __init__(self, name, age, account):\n",
    "        self.name = name\n",
    "        self._age = age\n",
    "        self.__account = account\n",
    "\n",
    "    def get_account(self):\n",
    "        return self.__account\n",
    "\n",
    "    @classmethod\n",
    "    def get_count(cls):\n",
    "        return cls.count\n",
    "\n",
    "    @property\n",
    "    def get_age(self):\n",
    "        return self._age\n",
    "\n",
    "\n",
    "if __name__ == '__main__':\n",
    "    userInfo = UserInfo('name_1', 20, 123456)\n",
    "\n",
    "    print(userInfo.get_count())\n",
    "    print(userInfo.get_age)\n"
   ]
  },
  {
   "cell_type": "code",
   "execution_count": 47,
   "metadata": {
    "collapsed": true
   },
   "outputs": [
    {
     "name": "stdout",
     "output_type": "stream",
     "text": [
      "11 9 2012\nFalse\n"
     ]
    }
   ],
   "source": [
    "class Date:\n",
    "    def __init__(self, day=0, month=0, year=0):\n",
    "        self.year = year\n",
    "        self.month = month\n",
    "        self.day = day\n",
    "\n",
    "    @classmethod\n",
    "    def from_string(cls, date_as_string):\n",
    "        day, month, year = map(int, date_as_string.split('-'))\n",
    "        my_date = cls(day, month, year)\n",
    "        return my_date\n",
    "\n",
    "    @staticmethod\n",
    "    def is_date_valid(date_as_string):\n",
    "        day, month, year = map(int, date_as_string.split('-'))\n",
    "        return day <= 31 and month <= 12 and year <= 3999\n",
    "\n",
    "\n",
    "if __name__ == '__main__':\n",
    "    my_date = Date.from_string('11-09-2012')\n",
    "    \n",
    "    print(my_date.day, my_date.month, my_date.year)\n",
    "    print(Date.is_date_valid('13-13-2012'))\n"
   ]
  },
  {
   "cell_type": "code",
   "execution_count": 45,
   "metadata": {
    "collapsed": true
   },
   "outputs": [
    {
     "name": "stdout",
     "output_type": "stream",
     "text": [
      "类方法cm(cls)调用者： A\n类方法cm(cls)调用者： B\n静态方法sm()被调用\n静态方法sm()被调用\n"
     ]
    }
   ],
   "source": [
    "class A:\n",
    "    @classmethod\n",
    "    def cm(cls):\n",
    "        print('类方法cm(cls)调用者：', cls.__name__)\n",
    "\n",
    "    @staticmethod\n",
    "    def sm():\n",
    "        print('静态方法sm()被调用')\n",
    "\n",
    "\n",
    "class B(A):\n",
    "    pass\n",
    "\n",
    "\n",
    "A.cm()  # 类方法cm(cls)调用者： A\n",
    "B.cm()  # 类方法cm(cls)调用者： B\n",
    "\n",
    "A.sm()  # 静态方法sm()被调用\n",
    "B.sm()  # 静态方法sm()被调用\n"
   ]
  },
  {
   "cell_type": "code",
   "execution_count": null,
   "metadata": {
    "collapsed": true
   },
   "outputs": [],
   "source": [
    "'''定义个例子'''\n",
    "\n",
    "\n",
    "class Expclass():\n",
    "    #定义：类变量\n",
    "    cls_a = '类变量'\n",
    "    #定义：实例变量\n",
    "    def __init__(self):\n",
    "        self.a = '实例变量'\n",
    "    #定义：类方法，使用隐参cls，代表类本身\n",
    "    @classmethod\n",
    "    def classdef(cls, text):\n",
    "        c = text.split('-')\n",
    "        print('--类方法--')\n",
    "        print(c)\n",
    "        print(cls.cls_a)  #此处软编码调用类变量：cls.类变量\n",
    "        print(cls.a)  #此处报错，类方法无法调用实例变量！！\n",
    "    #定义：静态方法\n",
    "    @staticmethod\n",
    "    def staticdef(text):\n",
    "        c = text.split('-')\n",
    "        print('--静态方法--')\n",
    "        print(c)\n",
    "        print(Expclass.cls_a)  #此处硬编码调用类变量：类名.类变量\n",
    "        print(self.a)  #此处报错，静态方法无法调用实例变量！！\n",
    "    #定义：实例方法，使用隐参self,代表实例本身\n",
    "    def objectdef(self, text):\n",
    "        c = text.split('-')\n",
    "        print('--实例方法--')\n",
    "        print(c)\n",
    "        print(self.cls_a)  #此处实例调用类变量：self.类变量\n",
    "        print(self.a)  #此处实例调用实例变量：self.实例变量\n",
    "\n",
    "# 多继承有一点需要注意的：若是父类中有相同的方法名，而在子类使用时未指定，\n",
    "# python 在圆括号中父类的顺序，从左至右搜索 ， 即方法在子类中未找到时，从左到右查找父类中是否包含方法。\n"
   ]
  },
  {
   "cell_type": "code",
   "execution_count": 3,
   "metadata": {
    "collapsed": false
   },
   "outputs": [
    {
     "name": "stdout",
     "output_type": "stream",
     "text": [
      "user\nuser info\n----------------------------------------------------------------------------------------------------\n男\nsuper user info\n"
     ]
    }
   ],
   "source": [
    "class User(object):\n",
    "    def __init__(self, name):\n",
    "        self.name = name\n",
    "\n",
    "    def get_name(self):\n",
    "        return self.name\n",
    "\n",
    "    def print_info(self):\n",
    "        print('user info')\n",
    "\n",
    "\n",
    "class SuperUser(User):\n",
    "    def __init__(self, name, age):\n",
    "        super(SuperUser, self).__init__(name)\n",
    "        self.age = age\n",
    "\n",
    "    @property\n",
    "    def get_age(self):\n",
    "        return self.age\n",
    "\n",
    "    def print_info(self):\n",
    "        print('super user info')\n",
    "\n",
    "\n",
    "if __name__ == '__main__':\n",
    "    user = User('user')\n",
    "    super_user = SuperUser('super user', '男')\n",
    "\n",
    "    print(user.get_name())\n",
    "    user.print_info()\n",
    "\n",
    "    print('-' * 100)\n",
    "    print(super_user.get_age)\n",
    "    super_user.print_info()\n"
   ]
  },
  {
   "cell_type": "code",
   "execution_count": null,
   "metadata": {},
   "outputs": [],
   "source": [
    "# super 指的是 MRO 中的下一个类！\n",
    "# def super(cls, inst):\n",
    "#     mro = inst.__class__.mro()\n",
    "#     return mro[mro.index(cls) + 1]\n",
    "# 两个参数 cls 和 inst 分别做了两件事：\n",
    "# inst 负责生成 MRO 的 list\n",
    "# cls 定位当前 MRO 中的 index, 并返回 mro[index + 1]\n",
    "# MRO 全称 Method Resolution Order，它代表了类继承的顺序。\n",
    "\n",
    "class Root(object):\n",
    "    def __init__(self):\n",
    "        print(\"this is Root\")\n",
    "\n",
    "\n",
    "class B(Root):\n",
    "    def __init__(self):\n",
    "        print(\"enter B\")\n",
    "        # print(self)  # this will print <__main__.D object at 0x...>\n",
    "        super(B, self).__init__()\n",
    "        print(\"leave B\")\n",
    "\n",
    "\n",
    "class C(Root):\n",
    "    def __init__(self):\n",
    "        print(\"enter C\")\n",
    "        super(C, self).__init__()\n",
    "        print(\"leave C\")\n",
    "\n",
    "\n",
    "class D(B, C):\n",
    "    pass\n",
    "\n",
    "\n",
    "d = D()\n",
    "d.__class__.__mro__\n"
   ]
  },
  {
   "cell_type": "code",
   "execution_count": null,
   "metadata": {},
   "outputs": [],
   "source": [
    "class A(object):\n",
    "    def __init__(self, strName, *args):\n",
    "        self.name = strName\n",
    "        super(A, self).__init__(*args)\n",
    "\n",
    "\n",
    "class B(object):\n",
    "    def __init__(self, iID):\n",
    "        self.ID = iID\n",
    "\n",
    "\n",
    "class C(A, B):\n",
    "    def __init__(self, *args):\n",
    "        super(C, self).__init__(*args)\n",
    "\n",
    "\n",
    "c = C(1, 2)\n",
    "c.__class__.__mro__\n"
   ]
  },
  {
   "cell_type": "code",
   "execution_count": null,
   "metadata": {},
   "outputs": [],
   "source": [
    "class A(object):\n",
    "    def __init__(self, strName, *args):\n",
    "        self.name = strName\n",
    "        super(A, self).__init__(*args)\n",
    "\n",
    "\n",
    "class B(object):\n",
    "    def __init__(self, iID):\n",
    "        self.ID = iID\n",
    "\n",
    "\n",
    "class C(A, B):\n",
    "    def __init__(self, *args):\n",
    "        super(C, self).__init__(*args)\n",
    "\n",
    "\n",
    "c = C(1, 2)\n",
    "c.__class__.__mro__\n",
    "\n"
   ]
  },
  {
   "cell_type": "code",
   "execution_count": null,
   "metadata": {},
   "outputs": [],
   "source": [
    "class A(object):\n",
    "    def __init__(self, strName, *args):\n",
    "        self.name = strName\n",
    "        super(A, self).__init__(*args)\n",
    "\n",
    "\n",
    "class B(object):\n",
    "    def __init__(self, iID):\n",
    "        self.ID = iID\n",
    "\n",
    "\n",
    "class C(A, B):\n",
    "    def __init__(self, *args):\n",
    "        super(C, self).__init__(*args)\n",
    "\n",
    "\n",
    "c = C(1, 2)\n",
    "c.__class__.__mro__\n",
    "\n"
   ]
  }
 ],
 "metadata": {
  "kernelspec": {
   "display_name": "Python 3",
   "language": "python",
   "name": "python3"
  },
  "language_info": {
   "codemirror_mode": {
    "name": "ipython",
    "version": 3
   },
   "file_extension": ".py",
   "mimetype": "text/x-python",
   "name": "python",
   "nbconvert_exporter": "python",
   "pygments_lexer": "ipython3",
   "version": "3.7.1"
  }
 },
 "nbformat": 4,
 "nbformat_minor": 1
}
