{
 "cells": [
  {
   "cell_type": "code",
   "execution_count": 10,
   "metadata": {},
   "outputs": [],
   "source": [
    "# +\t    \n",
    "# -\t \n",
    "# *    \n",
    "# /\t  \n",
    "# %\t    取模 - 返回除法的余数\n",
    "# **    幂 - 返回x的y次幂\n",
    "# //\t取整除 - 返回商的整数部分（向下取整）\n",
    "\n",
    "# ==\t\n",
    "# !=\t\n",
    "# >\t    \n",
    "# <\t    \n",
    "# >=\t\n",
    "# <=\t\n",
    "# =\t    \n",
    "# +=\t加法赋值运算符\n",
    "# -=\t减法赋值运算符\n",
    "# *=\t乘法赋值运算符\n",
    "# /=\t除法赋值运算符\n",
    "# %=\t取模赋值运算符\n",
    "# **=\t幂赋值运算符\n",
    "# //=\t取整除赋值运算符\n",
    "\n",
    "# &\t    按位与运算符：参与运算的两个值,如果两个相应位都为1,则该位的结果为1,否则为0\t\n",
    "# |\t    按位或运算符：只要对应的二个二进位有一个为1时，结果位就为1\n",
    "# ^\t    按位异或运算符：当两对应的二进位相异时，结果为1\n",
    "# ~\t    按位取反运算符：对数据的每个二进制位取反,即把1变为0,把0变为1 \n",
    "# <<\t左移动运算符：运算数的各二进位全部左移若干位，由 << 右边的数字指定了移动的位数，高位丢弃，低位补0\n",
    "# >>\t右移动运算符：把\">>\"左边的运算数的各二进位全部右移若干位，>> 右边的数字指定了移动的位数\n",
    "\n",
    "# and\t\n",
    "# or\t\n",
    "# not\n",
    "\n",
    "# in\t\n",
    "# not in\n",
    "\n",
    "# is\t    is 是判断两个标识符是不是引用自一个对象\n",
    "# is not\tis not 是判断两个标识符是不是引用自不同对象\n",
    "#           is 用于判断两个变量引用对象是否为同一个， == 用于判断引用变量的值是否相等。\n",
    "\n",
    "# 运算符优先级\n",
    "# **\t        指数 (最高优先级)\n",
    "# ~ + -\t        按位翻转, 一元加号和减号 (最后两个的方法名为 +@ 和 -@)\n",
    "# * / % //\t    乘，除，取模和取整除\n",
    "# + -\t        加法减法\n",
    "# >> <<\t        右移，左移运算符\n",
    "# &\t            位 'AND'\n",
    "# ^ |\t        位运算符\n",
    "# <= < > >=\t    比较运算符\n",
    "# == !=\t        等于运算符\n",
    "# = %= /= //= -= += *= **=\t    赋值运算符\n",
    "# is is not\t    身份运算符\n",
    "# in not in\t    成员运算符\n",
    "# not and or\t逻辑运算符\n"
   ]
  },
  {
   "cell_type": "code",
   "execution_count": 1,
   "metadata": {
    "collapsed": false
   },
   "outputs": [
    {
     "data": {
      "text/plain": [
       "('0b1010', '-0b1010', '0b11110110')"
      ]
     },
     "execution_count": 1,
     "metadata": {},
     "output_type": "execute_result"
    }
   ],
   "source": [
    "bin(10), bin(-10), bin(-10 & 0xFF)\n"
   ]
  },
  {
   "cell_type": "code",
   "execution_count": 5,
   "metadata": {},
   "outputs": [
    {
     "data": {
      "text/plain": [
       "('0b1110', '1110')"
      ]
     },
     "execution_count": 5,
     "metadata": {},
     "output_type": "execute_result"
    }
   ],
   "source": [
    "format(14, '#b'), format(14, 'b')"
   ]
  },
  {
   "cell_type": "code",
   "execution_count": null,
   "metadata": {},
   "outputs": [],
   "source": [
    "# &\t按位与运算符\n",
    "# |\t按位或运算符\n",
    "# ^\t按位异或运算符\n",
    "# ~\t按位取反运算符\n",
    "# << 左移动运算符\n",
    "# >> 右移动运算符\n"
   ]
  },
  {
   "cell_type": "code",
   "execution_count": null,
   "metadata": {},
   "outputs": [],
   "source": []
  }
 ],
 "metadata": {
  "kernelspec": {
   "display_name": "Python 2",
   "language": "python",
   "name": "python2"
  },
  "language_info": {
   "codemirror_mode": {
    "name": "ipython",
    "version": 2
   },
   "file_extension": ".py",
   "mimetype": "text/x-python",
   "name": "python",
   "nbconvert_exporter": "python",
   "pygments_lexer": "ipython2",
   "version": "2.7.6"
  }
 },
 "nbformat": 4,
 "nbformat_minor": 0
}
