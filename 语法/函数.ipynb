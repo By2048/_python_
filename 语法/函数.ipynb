{
 "cells": [
  {
   "cell_type": "code",
   "execution_count": 13,
   "metadata": {
    "collapsed": false
   },
   "outputs": [],
   "source": [
    "text = 'a.b.c d e f g'\n",
    "\n",
    "# def split(self, *args, **kwargs): # real signature unknown\n",
    "#     \"\"\"\n",
    "#     Return a list of the words in the string, using sep as the delimiter string.\n",
    "#     \n",
    "#       sep\n",
    "#         The delimiter according which to split the string.\n",
    "#         None (the default value) means split according to any whitespace,\n",
    "#         and discard empty strings from the result.\n",
    "#       maxsplit\n",
    "#         Maximum number of splits to do.\n",
    "#         -1 (the default value) means no limit.\n",
    "#     \"\"\"\n",
    "#     pass"
   ]
  },
  {
   "cell_type": "code",
   "execution_count": 14,
   "metadata": {
    "collapsed": false
   },
   "outputs": [
    {
     "data": {
      "text/plain": [
       "['a.b.c', 'd', 'e', 'f', 'g']"
      ]
     },
     "execution_count": 14,
     "metadata": {},
     "output_type": "execute_result"
    }
   ],
   "source": [
    "text.split()  # 默认以空格进行分割"
   ]
  },
  {
   "cell_type": "code",
   "execution_count": 15,
   "metadata": {},
   "outputs": [
    {
     "data": {
      "text/plain": [
       "['a', 'b', 'c d e f g']"
      ]
     },
     "execution_count": 15,
     "metadata": {},
     "output_type": "execute_result"
    }
   ],
   "source": [
    "text.split('.')  # 指定拆分规则"
   ]
  },
  {
   "cell_type": "code",
   "execution_count": 12,
   "metadata": {},
   "outputs": [
    {
     "data": {
      "text/plain": [
       "['a', 'b.c d e f g']"
      ]
     },
     "execution_count": 12,
     "metadata": {},
     "output_type": "execute_result"
    }
   ],
   "source": [
    "text.split('.', 1) # 仅拆分一次"
   ]
  },
  {
   "cell_type": "code",
   "execution_count": 1,
   "metadata": {},
   "outputs": [
    {
     "output_type": "stream",
     "name": "stdout",
     "text": "this is string example....wow!!!\n"
    }
   ],
   "source": [
    "data = \"0000000this is string example....wow!!!0000000\"\n",
    "print(data.strip('0'))"
   ]
  },
  {
   "cell_type": "code",
   "execution_count": 2,
   "metadata": {},
   "outputs": [
    {
     "output_type": "stream",
     "name": "stdout",
     "text": "6\n4\n"
    }
   ],
   "source": [
    "# eval() 函数用来执行一个字符串表达式 并返回表达式的值\n",
    "\n",
    "x = 2\n",
    "data = eval('3 * x')\n",
    "print(data)\n",
    "\n",
    "data = eval('pow(2, 2)')\n",
    "print(data)"
   ]
  }
 ],
 "metadata": {
  "kernelspec": {
   "display_name": "Python 3",
   "language": "python",
   "name": "python3"
  },
  "language_info": {
   "codemirror_mode": {
    "name": "ipython",
    "version": 3
   },
   "file_extension": ".py",
   "mimetype": "text/x-python",
   "name": "python",
   "nbconvert_exporter": "python",
   "pygments_lexer": "ipython3",
   "version": "3.8.2-final"
  }
 },
 "nbformat": 4,
 "nbformat_minor": 2
}