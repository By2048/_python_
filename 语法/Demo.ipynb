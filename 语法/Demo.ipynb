{
 "nbformat": 4,
 "nbformat_minor": 2,
 "metadata": {
  "language_info": {
   "name": "python",
   "codemirror_mode": {
    "name": "ipython",
    "version": 3
   },
   "version": "3.8.2-final"
  },
  "orig_nbformat": 2,
  "file_extension": ".py",
  "mimetype": "text/x-python",
  "name": "python",
  "npconvert_exporter": "python",
  "pygments_lexer": "ipython3",
  "version": 3,
  "kernelspec": {
   "name": "python38232bitpythonvenv950369df46704df0a574ed247563cd7e",
   "display_name": "Python 3.8.2 32-bit ('_python_': venv)"
  }
 },
 "cells": [
  {
   "cell_type": "code",
   "execution_count": null,
   "metadata": {},
   "outputs": [],
   "source": [
    "# 字符串原格式输出\n",
    "text = \"\"\"\n",
    "    你好\n",
    "    世界\n",
    "\"\"\"\n",
    "print(str(text))\n",
    "print(repr(text))\n"
   ]
  },
  {
   "cell_type": "code",
   "execution_count": 15,
   "metadata": {},
   "outputs": [
    {
     "output_type": "stream",
     "name": "stdout",
     "text": "[1, 2, 3]\n[4, 5, 6]\n[7, 8, 9]\n[10]\n"
    }
   ],
   "source": [
    "# list分组\n",
    "data = [1, 2, 3, 4, 5, 6, 7, 8, 9, 10]\n",
    "for index in range(0, len(data), 3):\n",
    "    item = data[index:index + 3]\n",
    "    print(item)"
   ]
  },
  {
   "cell_type": "code",
   "execution_count": 14,
   "metadata": {},
   "outputs": [],
   "source": [
    "# 三元运算\n",
    "x = 1\n",
    "y = 2\n",
    "z = x if x < y else y"
   ]
  },
  {
   "cell_type": "code",
   "execution_count": 4,
   "metadata": {},
   "outputs": [
    {
     "output_type": "stream",
     "name": "stdout",
     "text": "{'a': 'fun', 'b': (1, 10), 'c': <class 'float'>, 'return': <class 'int'>}\n6\n"
    }
   ],
   "source": [
    "# 函数注释规范\n",
    "def func(a: 'fun', b: (1, 10), c: float) -> int:\n",
    "    return a + b + c\n",
    "\n",
    "\n",
    "print(func.__annotations__)\n",
    "print(func(1, 2, 3))"
   ]
  },
  {
   "cell_type": "code",
   "execution_count": 5,
   "metadata": {},
   "outputs": [
    {
     "output_type": "stream",
     "name": "stdout",
     "text": "{'a': 'spam', 'b': range(1, 10), 'c': <class 'float'>, 'return': <class 'int'>}\n6\n15\n16\n"
    }
   ],
   "source": [
    "# 函数注释规范\n",
    "def func(a: 'spam' = 4, b: range(1, 10) = 5, c: float = 6) -> int:\n",
    "    return a + b + c\n",
    "\n",
    "\n",
    "print(func.__annotations__)\n",
    "print(func(1, 2, 3))\n",
    "print(func())\n",
    "print(func(1, c=10))"
   ]
  },
  {
   "cell_type": "code",
   "execution_count": 2,
   "metadata": {},
   "outputs": [
    {
     "output_type": "stream",
     "name": "stdout",
     "text": "5 4 3 2 1 0"
    }
   ],
   "source": [
    "# 循环条件\n",
    "for i in range(5, -1, -1):\n",
    "    print(i, end=' ')"
   ]
  },
  {
   "cell_type": "code",
   "execution_count": 1,
   "metadata": {},
   "outputs": [
    {
     "output_type": "stream",
     "name": "stdout",
     "text": "-3 5\n"
    }
   ],
   "source": [
    "# 返回多个值\n",
    "def run(x, y):\n",
    "    a = x - y\n",
    "    b = x + y\n",
    "    return a, b\n",
    "\n",
    "\n",
    "c, d = run(1, 4)\n",
    "print(c, d)"
   ]
  },
  {
   "cell_type": "code",
   "execution_count": 2,
   "metadata": {},
   "outputs": [
    {
     "output_type": "stream",
     "name": "stdout",
     "text": "1 6\n2 7\n3 8\n4 9\n"
    }
   ],
   "source": [
    "# 多个循环变量\n",
    "for i, j in zip(range(1, 5), range(6, 10)):\n",
    "    print(i, j)"
   ]
  },
  {
   "cell_type": "code",
   "execution_count": 1,
   "metadata": {},
   "outputs": [
    {
     "output_type": "stream",
     "name": "stdout",
     "text": "default\n1\n2\ndefault\ndefault\n"
    }
   ],
   "source": [
    "def _1_():\n",
    "    print(1)\n",
    "\n",
    "\n",
    "def _2_():\n",
    "    print(2)\n",
    "\n",
    "\n",
    "def default():\n",
    "    print('default')\n",
    "\n",
    "\n",
    "switch = {\n",
    "    1: _1_,\n",
    "    2: _2_,\n",
    "    -1: default\n",
    "}\n",
    "\n",
    "for index in range(5):\n",
    "    switch.get(index, default)()"
   ]
  }
 ]
}