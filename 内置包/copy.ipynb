{
 "cells": [
  {
   "cell_type": "code",
   "execution_count": 80,
   "metadata": {},
   "outputs": [],
   "source": [
    "# 直接赋值：其实就是对象的引用（别名）\n",
    "# 浅拷贝(copy)：拷贝父对象，不会拷贝对象的内部的子对象\n",
    "# 深拷贝(deepcopy)： copy 模块的 deepcopy 方法，完全拷贝了父对象及其子对象\n",
    "# \n",
    "# b = a: 赋值引用，a 和 b 都指向同一个对象\n",
    "# b = a.copy(): 浅拷贝, a 和 b 是一个独立的对象，但他们的子对象还是指向统一对象（是引用）\n",
    "# b = copy.deepcopy(a): 深度拷贝, a 和 b 完全拷贝了父对象及其子对象，两者是完全独立的\n"
   ]
  },
  {
   "cell_type": "code",
   "execution_count": 81,
   "metadata": {},
   "outputs": [
    {
     "output_type": "stream",
     "name": "stdout",
     "text": "a=[1, 2, ['a', 'b']]\nb=[1, 2, ['a', 'b']]\n"
    }
   ],
   "source": [
    "a = [1, 2, ['a', 'b']]\n",
    "b = a\n",
    "\n",
    "print(f\"{a=}\\n{b=}\")\n"
   ]
  },
  {
   "cell_type": "code",
   "execution_count": 82,
   "metadata": {
    "collapsed": true
   },
   "outputs": [
    {
     "output_type": "stream",
     "name": "stdout",
     "text": "a={'key': [1, 2]}\nb={'key': [1, 2]}\nc={'key': [1, 2]}\n\na={'key': [1, 2, 3]}\nb={'key': [1, 2, 3]}\nc={'key': [1, 2, 3]}\n"
    }
   ],
   "source": [
    "import copy\n",
    "\n",
    "a = {'key': [1, 2]}\n",
    "b = a.copy()\n",
    "c = copy.copy(a)\n",
    "\n",
    "print(f\"{a=}\\n{b=}\\n{c=}\\n\")\n",
    "\n",
    "a['key'].append(3)\n",
    "\n",
    "print(f\"{a=}\\n{b=}\\n{c=}\")"
   ]
  },
  {
   "cell_type": "code",
   "execution_count": 83,
   "metadata": {},
   "outputs": [
    {
     "output_type": "stream",
     "name": "stdout",
     "text": "a={'key': [1, 2]}\nb={'key': [1, 2]}\nc={'key': [1, 2]}\n\na={'key': [1, 2, 3]}\nb={'key': [1, 2, 3]}\nc={'key': [1, 2, 3]}\n"
    }
   ],
   "source": [
    "import copy\n",
    "\n",
    "a = {'key': [1, 2]}\n",
    "b = copy.copy(a)\n",
    "c = a.copy()\n",
    "\n",
    "print(f\"{a=}\\n{b=}\\n{c=}\\n\")\n",
    "\n",
    "a['key'].append(3)\n",
    "\n",
    "print(f\"{a=}\\n{b=}\\n{c=}\")"
   ]
  },
  {
   "cell_type": "code",
   "execution_count": 84,
   "metadata": {},
   "outputs": [
    {
     "output_type": "stream",
     "name": "stdout",
     "text": "a={'key': [1, 2]}\nb={'key': [1, 2]}\n\na={'key': [1, 2, 3]}\nb={'key': [1, 2]}\n"
    }
   ],
   "source": [
    "import copy\n",
    "\n",
    "a = {'key': [1, 2]}\n",
    "b = copy.deepcopy(a)\n",
    "\n",
    "print(f'{a=}\\n{b=}\\n')\n",
    "\n",
    "a['key'].append(3)\n",
    "\n",
    "print(f'{a=}\\n{b=}')"
   ]
  },
  {
   "cell_type": "code",
   "execution_count": 2,
   "metadata": {
    "pycharm": {
     "is_executing": false
    }
   },
   "outputs": [
    {
     "name": "stdout",
     "text": [
      "a=[['a', 'b'], 1, 2]\n",
      "b=[['a', 'b'], 1, 2]\n",
      "c=[['a', 'b'], 1, 2]\n",
      "d=[['a', 'b'], 1, 2]\n",
      "\n",
      "a=[['a', 'b', 'c'], 1, 2, 3]\n",
      "b=[['a', 'b', 'c'], 1, 2, 3]\n",
      "c=[['a', 'b', 'c'], 1, 2]\n",
      "d=[['a', 'b'], 1, 2]\n",
      "\n"
     ],
     "output_type": "stream"
    }
   ],
   "source": [
    "import copy\n",
    "\n",
    "a = [['a', 'b'], 1, 2]\n",
    "b = a\n",
    "c = copy.copy(a)\n",
    "d = copy.deepcopy(a)\n",
    "\n",
    "print(f'{a=}\\n{b=}\\n{c=}\\n{d=}\\n')\n",
    "\n",
    "a.append(3)\n",
    "a[0].append('c')\n",
    "\n",
    "print(f'{a=}\\n{b=}\\n{c=}\\n{d=}\\n')"
   ]
  },
  {
   "cell_type": "code",
   "execution_count": null,
   "metadata": {},
   "outputs": [],
   "source": [
    "## 引用\n",
    "python中赋值符号 `=`两边的对象是同一个对象，左边的对象可以看成是右边对象的一个引用\n",
    "\n",
    "```py\n",
    "a=[1,2,'a','b']\n",
    "b=a\n",
    "a\n",
    "[1, 2, 'a', 'b']\n",
    "b\n",
    "[1, 2, 'a', 'b']\n",
    "a.append('c')\n",
    "a\n",
    "[1, 2, 'a', 'b', 'c']\n",
    "b\n",
    "[1, 2, 'a', 'b', 'c']\n",
    "a is b\n",
    "True\n",
    "```\n",
    "\n",
    "说明：\n",
    "从例子中可看到，a的值的变化会导致b的值也会变化，因为他们是同一个对象，共享同一块内存地址，b是a的引用。\n",
    "判断两个变量是否是同一个对象的方法是用is，返回True则代表两个变量是同一个对象。\n",
    "总结：\n",
    "赋值是将一个对象的地址赋值给一个变量，让变量指向该地址（ 旧瓶装旧酒 ）。\n",
    "\n",
    "#2、拷贝\n",
    "对象的拷贝是根据源对象生成一个新的对象，占用不同的内容存空间。一个对象值的变化，不会影响另外一个对象的值。拷贝又分潜拷贝和深拷贝。\n",
    "\n",
    "##2.1、潜拷贝\n",
    "python中的copy模块可以实现对象的浅拷贝。什么是浅拷贝？举个例子来说明：\n",
    "\n",
    ">>> import copy\n",
    ">>> a=[[1,2],['a','b']]\n",
    ">>> b=copy.copy(a)\n",
    ">>> b is a\n",
    ">>> False\n",
    ">>> a.append('c')\n",
    ">>> a\n",
    "[[1, 2], ['a', 'b'], 'c']\n",
    ">>> b\n",
    "[[1, 2], ['a', 'b']]\n",
    ">>> a[0].append(3)\n",
    ">>> a\n",
    "[[1, 2, 3], ['a', 'b'], 'c']\n",
    ">>> b\n",
    "[[1, 2, 3], ['a', 'b']]\n",
    ">>> a[0] is b[0]\n",
    ">>> True\n",
    "\n",
    "说明：\n",
    "通过例子可以看到通过copy模块的copy方法，根据对象a生成了一个新对象b，这一点可以通过is表达式的结果证明。\n",
    "a.append(‘c’)之后，发现a和b的值不一样了，这是因为a和b指向两个不同的地址。对a的值的修改不会影响b的值。\n",
    "但是a[0].append(3)之后，a[0]和b[0]却是一样的。这就是浅拷贝的效果。因为a[0] 和b[0]还是指向同一个地址。\n",
    "总结：\n",
    "浅拷贝是在另一块地址中创建一个新的变量或容器，但是容器内的元素的地址均是源对象的元素的地址的拷贝。也就是说新的容器中指向了旧的元素（ 新瓶装旧酒 ）\n",
    "\n",
    "##2.2、深拷贝\n",
    "python的copy模块的deepcopy函数可以实现深拷贝。\n",
    "还是以上面的例子为例。\n",
    "\n",
    ">>> import copy\n",
    ">>> a=[[1,2],['a','b']]\n",
    ">>> b=copy.deepcopy(a)\n",
    ">>> a is b\n",
    "False\n",
    ">>> a[0] is b[0]\n",
    "False\n",
    ">>> a.append('c')\n",
    ">>> a\n",
    "[[1, 2, 3], ['a', 'b'], 'c']\n",
    ">>> b\n",
    "[[1, 2], ['a', 'b']]\n",
    ">>> a[0].append(3)\n",
    ">>> a\n",
    "[[1, 2, 3], ['a', 'b']]\n",
    ">>> b\n",
    "[[1, 2], ['a', 'b']]\n",
    "\n",
    "说明：\n",
    "由于b是a的深拷贝，所以a对象和b对象的内存地址不同，a对象和b对象包含的底层对象（a[0]a[1]b[0]b[1]）内存地址也不同。\n",
    "对a对象的值的改变不会影响b对象的值，对a对象的底层对象的值的改变也不会影响b的底层对象的值。\n",
    "总结：\n",
    "深拷贝是在另一块地址中创建一个新的变量或容器，同时容器内的元素的地址也是新开辟的，仅仅是值相同而已，是完全的副本。也就是说（ 新瓶装新酒 ）。hh"
   ]
  }
 ],
 "metadata": {
  "kernelspec": {
   "display_name": "Python 3.8.2 32-bit ('_python_': venv)",
   "language": "python",
   "name": "python38232bitpythonvenv950369df46704df0a574ed247563cd7e"
  },
  "language_info": {
   "codemirror_mode": {
    "name": "ipython",
    "version": 2
   },
   "file_extension": ".py",
   "mimetype": "text/x-python",
   "name": "python",
   "nbconvert_exporter": "python",
   "pygments_lexer": "ipython2",
   "version": "3.8.2-final"
  },
  "pycharm": {
   "stem_cell": {
    "cell_type": "raw",
    "source": [],
    "metadata": {
     "collapsed": false
    }
   }
  }
 },
 "nbformat": 4,
 "nbformat_minor": 0
}