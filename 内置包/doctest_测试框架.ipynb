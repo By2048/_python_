{
 "cells": [
  {
   "cell_type": "code",
   "execution_count": 3,
   "metadata": {
    "collapsed": true
   },
   "outputs": [
    {
     "name": "stdout",
     "output_type": "stream",
     "text": [
      "Trying:\n    multiply(4, 3)\nExpecting:\n    12\nok\nTrying:\n    multiply('a', 3)\nExpecting:\n    'aaa'\nok\nTrying:\n    multiply('a', 3)\nExpecting:\n    'aa'\n**********************************************************************\nFile \"__main__\", line 9, in __main__.multiply\nFailed example:\n    multiply('a', 3)\nExpected:\n    'aa'\nGot:\n    'aaa'\n1 items had no tests:\n    __main__\n**********************************************************************\n1 items had failures:\n   1 of   3 in __main__.multiply\n3 tests in 2 items.\n2 passed and 1 failed.\n***Test Failed*** 1 failures.\n"
     ]
    }
   ],
   "source": [
    "import doctest\n",
    "\n",
    "def multiply(a, b):\n",
    "    \"\"\"\n",
    "    >>> multiply(4, 3)\n",
    "    12\n",
    "    >>> multiply('a', 3)\n",
    "    'aaa'\n",
    "    >>> multiply('a', 3)\n",
    "    'aa'\n",
    "    \"\"\"\n",
    "    return a * b\n",
    "\n",
    "if __name__ == '__main__':\n",
    "    # verbose参数，\n",
    "    #   True 则在执行测试的时候会输出详细信息。\n",
    "    #   False(默认)，表示运行测试时，只有失败的用例会输出详细信息\n",
    "    doctest.testmod(verbose=True)\n"
   ]
  },
  {
   "cell_type": "markdown",
   "metadata": {
    "collapsed": true
   },
   "source": [
    "`python -m doctest test.py`\n",
    "\n",
    "`python -m doctest -v test.py`\n",
    "\n",
    "\t-m 表示引用一个模块\n",
    "\n",
    "\t-v 等价于 verbose=True。运行输出与上面基本一样。\n",
    "\n",
    "如果不想将 `doctest` 测试用例嵌入到 `python` 的源码中，则可以建立一个独立的文本文件来保存测试用例。\n",
    "将 `doctest` 测试用例从上面的 `python` 源码中剥离出来放到 `test.txt` 文件里。\n",
    "\n",
    "```txt\n",
    ">>> from test import multiply\n",
    ">>> multiply(3, 4)\n",
    "12\n",
    ">>> multiply('a', 3)\n",
    "'aaa'\n",
    "```\n",
    "`python -m doctest -v test.txt`\n"
   ]
  }
 ],
 "metadata": {
  "kernelspec": {
   "display_name": "Python 2",
   "language": "python",
   "name": "python2"
  },
  "language_info": {
   "codemirror_mode": {
    "name": "ipython",
    "version": 2
   },
   "file_extension": ".py",
   "mimetype": "text/x-python",
   "name": "python",
   "nbconvert_exporter": "python",
   "pygments_lexer": "ipython2",
   "version": "2.7.6"
  }
 },
 "nbformat": 4,
 "nbformat_minor": 0
}
