{
 "nbformat": 4,
 "nbformat_minor": 2,
 "metadata": {
  "language_info": {
   "name": "python",
   "codemirror_mode": {
    "name": "ipython",
    "version": 3
   },
   "version": "3.8.2-final"
  },
  "orig_nbformat": 2,
  "file_extension": ".py",
  "mimetype": "text/x-python",
  "name": "python",
  "npconvert_exporter": "python",
  "pygments_lexer": "ipython3",
  "version": 3,
  "kernelspec": {
   "name": "python38232bitpythonvenv950369df46704df0a574ed247563cd7e",
   "display_name": "Python 3.8.2 32-bit ('_python_': venv)"
  }
 },
 "cells": [
  {
   "cell_type": "markdown",
   "metadata": {},
   "source": [
    "- namedtuple\n",
    "    - 创建一个自定义的元组对象，并且规定了元组元素的个数\n",
    "    - 可以用属性而不是索引来引用元组的某个元素。\n",
    "    - 可以通过 namedtuple 来定义一种数据类型，它具备元组的不变性，又可以根据属性来引用"
   ]
  },
  {
   "cell_type": "code",
   "execution_count": 1,
   "metadata": {},
   "outputs": [
    {
     "output_type": "stream",
     "name": "stdout",
     "text": "11\n22\n"
    }
   ],
   "source": [
    "from collections import namedtuple\n",
    "\n",
    "Point = namedtuple('Point', ['x', 'y'])\n",
    "p = Point(11, 22)\n",
    "\n",
    "print(p.x)\n",
    "print(p.y)"
   ]
  },
  {
   "cell_type": "markdown",
   "metadata": {},
   "source": [
    "- deque\n",
    "    - 使用list 存储数据时，按照索引访问元素很快，插入和删除元素很慢，因为list是线性存储 数据量大的时候，插入和删除效率很低\n",
    "    - deque是为了高效实现插入和删除操作的双向列表，适合用于队列和栈。"
   ]
  },
  {
   "cell_type": "code",
   "execution_count": 7,
   "metadata": {},
   "outputs": [
    {
     "output_type": "stream",
     "name": "stdout",
     "text": "data=deque(['y', 'a', 'b', 'c', 'x'])\n\nitem='x'\ndata=deque(['y', 'a', 'b', 'c'])\n\nitem='y'\ndata=deque(['a', 'b', 'c'])\n"
    }
   ],
   "source": [
    "from collections import deque\n",
    "\n",
    "data = deque(['a', 'b', 'c'])\n",
    "data.append('x')\n",
    "data.appendleft('y')\n",
    "\n",
    "print(f\"{data=}\\n\")\n",
    "\n",
    "item = data.pop()\n",
    "print(f\"{item=}\\n{data=}\\n\")\n",
    "\n",
    "item = data.popleft()\n",
    "print(f\"{item=}\\n{data=}\")"
   ]
  },
  {
   "cell_type": "markdown",
   "metadata": {},
   "source": [
    "> defaultdict\n",
    ">> 使用字典时，如果引用的Key不存在，就会抛出 KeyError，如果希望key不存在时，返回一个默认值，就可以用 defaultdict. "
   ]
  },
  {
   "cell_type": "code",
   "execution_count": 13,
   "metadata": {},
   "outputs": [
    {
     "output_type": "stream",
     "name": "stdout",
     "text": "data['key1']='value1'\ndata['key2']='-null-'\n"
    }
   ],
   "source": [
    "from collections import defaultdict\n",
    "\n",
    "data = defaultdict(lambda: '-null-')\n",
    "data['key1'] = 'value1'\n",
    "\n",
    "print(f\"{data['key1']=}\")\n",
    "print(f\"{data['key2']=}\")"
   ]
  },
  {
   "cell_type": "code",
   "execution_count": null,
   "metadata": {},
   "outputs": [],
   "source": [
    "> OrderedDict\n",
    "> 有序字典 OrderedDict 的有序性是按照插入的顺序，而不是Key的顺序。\n"
   ]
  },
  {
   "cell_type": "code",
   "execution_count": null,
   "metadata": {},
   "outputs": [],
   "source": [
    "from collections import OrderedDict\n",
    "\n",
    "data = dict([('b', 2), ('a', 1), ('c', 3)])\n",
    "print(f\"{data=}\")\n",
    "\n",
    "data = OrderedDict([('b', 2), ('a', 1), ('c', 3)])\n",
    "print(f\"{data=}\")\n",
    "\n"
   ]
  },
  {
   "cell_type": "code",
   "execution_count": 20,
   "metadata": {},
   "outputs": [
    {
     "output_type": "stream",
     "name": "stdout",
     "text": "data=LimitOrderedDict([('key1', 'value1')])\n\ndata=LimitOrderedDict([('key1', 'value1'), ('key2', 'value2')])\n\nfirst=('key1', 'value1')\ndata=LimitOrderedDict([('key2', 'value2'), ('key3', 'value3')])\n\n"
    }
   ],
   "source": [
    "from collections import OrderedDict\n",
    "\n",
    "# FIFO OrderedDict\n",
    "\n",
    "class LimitOrderedDict(OrderedDict):\n",
    "\n",
    "    def __init__(self, length):\n",
    "        super().__init__()\n",
    "        self.length = length\n",
    "\n",
    "    def __setitem__(self, key, value):\n",
    "        if key not in self:\n",
    "            if len(self) == self.length:\n",
    "                first = self.popitem(last=False)\n",
    "                print(f\"{first=}\")\n",
    "        super(LimitOrderedDict, self).__setitem__(key, value)\n",
    "\n",
    "\n",
    "data = LimitOrderedDict(length=2)\n",
    "\n",
    "data['key1'] = 'value1'\n",
    "print(f\"{data=}\\n\")\n",
    "\n",
    "data['key2'] = 'value2'\n",
    "print(f\"{data=}\\n\")\n",
    "\n",
    "data['key3'] = 'value3'\n",
    "print(f\"{data=}\\n\")"
   ]
  },
  {
   "cell_type": "markdown",
   "metadata": {},
   "source": [
    "> Counter\n",
    ">> 简单的计数器"
   ]
  },
  {
   "cell_type": "code",
   "execution_count": 14,
   "metadata": {},
   "outputs": [
    {
     "output_type": "stream",
     "name": "stdout",
     "text": "c=Counter({'d': 4, 'c': 3, 'b': 2, 'a': 1})\n"
    }
   ],
   "source": [
    "from collections import Counter\n",
    "\n",
    "c = Counter()\n",
    "for i in 'abbcccdddd':\n",
    "    c[i] = c[i] + 1\n",
    "\n",
    "print(f\"{c=}\")"
   ]
  }
 ]
}