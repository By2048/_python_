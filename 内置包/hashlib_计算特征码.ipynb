{
 "cells": [
  {
   "cell_type": "code",
   "execution_count": 1,
   "outputs": [
    {
     "name": "stderr",
     "text": [
      "[INFO 7] E:\\Git\\NoteBook\\Python\\package\\System\\_code\\config_example.ini\n"
     ],
     "output_type": "stream"
    }
   ],
   "source": [
    "import os\n",
    "import logging\n",
    "import hashlib\n",
    "\n",
    "logging.basicConfig(level=logging.INFO, format='[%(levelname)s %(lineno)d] %(message)s', )\n",
    "\n",
    "file_path = os.path.join(os.getcwd(), '_code', 'config_example.ini')\n",
    "logging.info(file_path)\n"
   ],
   "metadata": {
    "pycharm": {
     "metadata": false,
     "name": "#%%\n",
     "is_executing": false
    }
   }
  },
  {
   "cell_type": "code",
   "execution_count": 2,
   "outputs": [
    {
     "name": "stderr",
     "text": [
      "[INFO 11] 74bdfde0b5b5091da7cf5f6ec0e9b7ed\n"
     ],
     "output_type": "stream"
    }
   ],
   "source": [
    "# 获取文件的md5值\n",
    "hash = hashlib.md5()\n",
    "file = open(file_path, 'rb')\n",
    "while True:\n",
    "    data = file.read(8096)\n",
    "    if not data:\n",
    "        break\n",
    "    hash.update(data)\n",
    "file.close()\n",
    "md5 = hash.hexdigest()\n",
    "logging.info(md5)\n"
   ],
   "metadata": {
    "pycharm": {
     "metadata": false,
     "name": "#%%\n",
     "is_executing": false
    }
   }
  },
  {
   "cell_type": "code",
   "execution_count": 4,
   "outputs": [
    {
     "name": "stderr",
     "text": [
      "[INFO 11] 507e6e0fef6bfb6174b7b644362bc832a3c2deb9\n"
     ],
     "output_type": "stream"
    }
   ],
   "source": [
    "# 获取文件 SHA1\n",
    "hash = hashlib.sha1()\n",
    "file = open(file_path, 'rb')\n",
    "while True:\n",
    "    byte = file.read(8096)\n",
    "    if not byte:\n",
    "        break\n",
    "    hash.update(byte)\n",
    "file.close()\n",
    "sha1 = hash.hexdigest().lower()\n",
    "logging.info(sha1)\n"
   ],
   "metadata": {
    "pycharm": {
     "metadata": false,
     "name": "#%%\n",
     "is_executing": false
    }
   }
  },
  {
   "cell_type": "code",
   "execution_count": 5,
   "outputs": [
    {
     "name": "stderr",
     "text": [
      "[INFO 5] 8c6976e5b5410415bde908bd4dee15dfb167a9c873fc4bb8a81f6f2ab448a918\n"
     ],
     "output_type": "stream"
    }
   ],
   "source": [
    "# sha256加密\n",
    "hash = hashlib.sha256()\n",
    "hash.update('admin'.encode('utf-8'))\n",
    "sha256 = hash.hexdigest()\n",
    "logging.info(sha256)\n"
   ],
   "metadata": {
    "pycharm": {
     "metadata": false,
     "name": "#%%\n",
     "is_executing": false
    }
   }
  },
  {
   "cell_type": "code",
   "execution_count": 6,
   "outputs": [
    {
     "name": "stderr",
     "text": [
      "[INFO 4] 21232f297a57a5a743894a0e4a801fc3\n"
     ],
     "output_type": "stream"
    }
   ],
   "source": [
    "hash = hashlib.md5()\n",
    "hash.update('admin'.encode('utf-8'))\n",
    "hash = hash.hexdigest()\n",
    "logging.info(hash)\n",
    "\n"
   ],
   "metadata": {
    "pycharm": {
     "metadata": false,
     "name": "#%%\n",
     "is_executing": false
    }
   }
  }
 ],
 "metadata": {
  "kernelspec": {
   "name": "python3",
   "language": "python",
   "display_name": "Python 3"
  },
  "language_info": {
   "codemirror_mode": {
    "name": "ipython",
    "version": 2
   },
   "file_extension": ".py",
   "mimetype": "text/x-python",
   "name": "python",
   "nbconvert_exporter": "python",
   "pygments_lexer": "ipython2",
   "version": "2.7.6"
  },
  "stem_cell": {
   "cell_type": "raw",
   "source": "",
   "metadata": {
    "pycharm": {
     "metadata": false
    }
   }
  }
 },
 "nbformat": 4,
 "nbformat_minor": 0
}