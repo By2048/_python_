{
 "cells": [
  {
   "cell_type": "code",
   "execution_count": 2,
   "metadata": {
    "collapsed": true
   },
   "outputs": [
    {
     "name": "stdout",
     "output_type": "stream",
     "text": [
      "0.43676807399999973\n0.3992181470000009\n0.3151865580000006\n"
     ]
    }
   ],
   "source": [
    "import timeit\n",
    "\n",
    "a = timeit.timeit('\"-\".join(str(n) for n in range(100))', number=10000)\n",
    "b = timeit.timeit('\"-\".join([str(n) for n in range(100)])', number=10000)\n",
    "c = timeit.timeit('\"-\".join(map(str, range(100)))', number=10000)\n",
    "print(a)\n",
    "print(b)\n",
    "print(c)\n"
   ]
  },
  {
   "cell_type": "code",
   "execution_count": 5,
   "metadata": {},
   "outputs": [],
   "source": [
    "# python -m timeit \"'-'.join(str(n) for n in range(100))\""
   ]
  },
  {
   "cell_type": "code",
   "execution_count": null,
   "metadata": {},
   "outputs": [],
   "source": []
  }
 ],
 "metadata": {
  "kernelspec": {
   "display_name": "Python 2",
   "language": "python",
   "name": "python2"
  },
  "language_info": {
   "codemirror_mode": {
    "name": "ipython",
    "version": 2
   },
   "file_extension": ".py",
   "mimetype": "text/x-python",
   "name": "python",
   "nbconvert_exporter": "python",
   "pygments_lexer": "ipython2",
   "version": "2.7.6"
  }
 },
 "nbformat": 4,
 "nbformat_minor": 0
}
