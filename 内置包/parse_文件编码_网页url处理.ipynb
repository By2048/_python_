{
 "cells": [
  {
   "cell_type": "markdown",
   "metadata": {
    "collapsed": true
   },
   "source": [
    "```js\n",
    "escape(\"春节\")\n",
    "// \"%u6625%u8282\"\n",
    "escape(\"A B\")\n",
    "// \"A%20B\"\n",
    "```\n"
   ]
  },
  {
   "cell_type": "code",
   "execution_count": 6,
   "metadata": {
    "collapsed": true
   },
   "outputs": [
    {
     "name": "stdout",
     "output_type": "stream",
     "text": [
      "1 id=184ff84d27c3613d&quality=medium\n2 id%3D184ff84d27c3613d&quality=medium\n3 name=walker&age=99\n3 a%26b/c\n3 a%26b%2Fc\n"
     ]
    }
   ],
   "source": [
    "import sys\n",
    "import json\n",
    "import pprint\n",
    "from urllib import parse"
   ]
  },
  {
   "cell_type": "code",
   "execution_count": 4,
   "metadata": {
    "collapsed": true
   },
   "outputs": [
    {
     "name": "stdout",
     "output_type": "stream",
     "text": [
      "1 id=184ff84d27c3613d&quality=medium\n2 id%3D184ff84d27c3613d&quality=medium\n3 name=walker&age=99\n3 a%26b/c\n3 a%26b%2Fc\n"
     ]
    }
   ],
   "source": [
    "print(1, parse.quote('推荐'))\n",
    "\n",
    "print(2, sys.getdefaultencoding())\n",
    "\n",
    "print(3, u'%E6%8E%A8%E8%8D%90'.encode('gb2312'))\n",
    "\n",
    "print(4, parse.unquote('%E6%8E%A8%E8%8D%90'))\n",
    "\n",
    "print(5, parse.unquote_plus('1+2'))\n",
    "\n",
    "print(6, parse.unquote('1+2'))\n"
   ]
  },
  {
   "cell_type": "code",
   "execution_count": 8,
   "metadata": {
    "collapsed": true
   },
   "outputs": [
    {
     "name": "stdout",
     "output_type": "stream",
     "text": [
      "1 id=184ff84d27c3613d&quality=medium\n2 id%3D184ff84d27c3613d&quality=medium\n3 name=walker&age=99\n3 a%26b/c\n3 a%26b%2Fc\n"
     ]
    }
   ],
   "source": [
    "from urllib import parse\n",
    "\n",
    "url = r'https://docs.python.org/3.5/search.html?q=parse&check_keywords=yes&area=default'\n",
    "\n",
    "print(1, parse.urlparse(url))\n",
    "# ParseResult(scheme='https', netloc='docs.python.org', path='/3.5/search.html', params='', query='q=parse&check_keywords=yes&area=default', fragment='')\n",
    "\n",
    "param: dict = parse.parse_qs(parse.urlparse(url).query)\n",
    "print(2, param)\n",
    "print(2, param['q'][0])\n",
    "\n",
    "print(3, parse.parse_qs('proxy=183.222.102.178:8080&task=XXXXX|5-3+2'))\n",
    "print(3, parse.parse_qs('action=addblog&job=modify&tid=1766670'))\n",
    "print(3, parse.parse_qsl('action=addblog&job=modify&tid=1766670'))\n"
   ]
  },
  {
   "cell_type": "code",
   "execution_count": 13,
   "metadata": {
    "collapsed": true
   },
   "outputs": [
    {
     "name": "stdout",
     "output_type": "stream",
     "text": [
      "1 id=184ff84d27c3613d&quality=medium\n2 id%3D184ff84d27c3613d&quality=medium\n3 name=walker&age=99\n3 a%26b/c\n3 a%26b%2Fc\n"
     ]
    }
   ],
   "source": [
    "link = 'id%253D184ff84d27c3613d%26quality%3Dmedium'\n",
    "\n",
    "print(1, parse.unquote(parse.unquote(link)))\n",
    "print(2, parse.unquote(link))\n",
    "\n",
    "print(3, parse.urlencode({'name': 'walker', 'age': 99, }))\n",
    "print(3, parse.quote('a&b/c'))\n",
    "print(3, parse.quote_plus('a&b/c'))\n"
   ]
  },
  {
   "cell_type": "code",
   "execution_count": null,
   "metadata": {},
   "outputs": [],
   "source": []
  }
 ],
 "metadata": {
  "kernelspec": {
   "display_name": "Python 2",
   "language": "python",
   "name": "python2"
  },
  "language_info": {
   "codemirror_mode": {
    "name": "ipython",
    "version": 2
   },
   "file_extension": ".py",
   "mimetype": "text/x-python",
   "name": "python",
   "nbconvert_exporter": "python",
   "pygments_lexer": "ipython2",
   "version": "2.7.6"
  }
 },
 "nbformat": 4,
 "nbformat_minor": 0
}
