{
 "cells": [
  {
   "cell_type": "code",
   "execution_count": 21,
   "metadata": {
    "collapsed": true
   },
   "outputs": [],
   "source": [
    "import os\n",
    "import pprint\n",
    "import json\n",
    "from configparser import ConfigParser\n",
    "\n",
    "config_read = os.path.join(os.getcwd(), 'Python', '库', '内置', 'code', 'config_read.ini')\n",
    "config_write = os.path.join(os.getcwd(), 'Python', '库', '内置', 'code', 'config_write.ini')\n",
    "config_example = os.path.join(os.getcwd(), 'Python', '库', '内置', 'code', 'config_example.ini')\n"
   ]
  },
  {
   "cell_type": "code",
   "execution_count": 23,
   "metadata": {
    "collapsed": true
   },
   "outputs": [
    {
     "name": "stdout",
     "output_type": "stream",
     "text": [
      "1 ['installation', 'debug', 'server']\n2 /usr/local/lib\n2 /usr/local/lib\n2 %(prefix)s/lib\n3 no exit\n4 True\n4 True\n5 8080\n5 \n=================================\nBrought to you by the Python Cookbook\n=================================\n6 True\n7 log_errors true\n7 show_warnings False\n"
     ]
    }
   ],
   "source": [
    "cfg = ConfigParser()\n",
    "cfg.read(config_read)\n",
    "\n",
    "print(1, cfg.sections())\n",
    "\n",
    "print(2, cfg.get('installation', 'library'))\n",
    "print(2, cfg.get('installation', 'library', raw=False))\n",
    "print(2, cfg.get('installation', 'library', raw=True))\n",
    "\n",
    "print(3, cfg.get('installation', 'library_no', fallback='no exit'))\n",
    "\n",
    "print(4, cfg.getboolean('debug', 'log_errors'))\n",
    "print(4, cfg['debug'].getboolean('log_errors'))\n",
    "\n",
    "print(5, cfg.getint('server', 'port'))\n",
    "print(5, cfg.get('server', 'signature'))\n",
    "\n",
    "print(6, 'debug' in cfg)\n",
    "\n",
    "for key in cfg['debug']:\n",
    "    print(7, key, cfg['debug'][key])\n",
    "\n",
    "# ; config.ini\n",
    "# ; Sample configuration file\n",
    "# \n",
    "# [installation]\n",
    "# library=%(prefix)s/lib\n",
    "# include=%(prefix)s/include\n",
    "# bin=%(prefix)s/bin\n",
    "# prefix=/usr/local\n",
    "# \n",
    "# # Setting related to debug configuration\n",
    "# [debug]\n",
    "# log_errors=true\n",
    "# show_warnings=False\n",
    "# \n",
    "# [server]\n",
    "# port: 8080\n",
    "# nworkers: 32\n",
    "# pid-file=/tmp/spam.pid\n",
    "# root=/www/root\n",
    "# signature:\n",
    "#     =================================\n",
    "#     Brought to you by the Python Cookbook\n",
    "#     =================================\n"
   ]
  },
  {
   "cell_type": "code",
   "execution_count": 20,
   "metadata": {
    "collapsed": true
   },
   "outputs": [
    {
     "name": "stdout",
     "output_type": "stream",
     "text": [
      "1 ['installation', 'debug', 'server']\n2 /usr/local/lib\n2 /usr/local/lib\n2 %(prefix)s/lib\n3 no exit\n4 True\n4 True\n5 8080\n5 \n=================================\nBrought to you by the Python Cookbook\n=================================\n6 True\n7 log_errors true\n7 show_warnings False\n"
     ]
    }
   ],
   "source": [
    "cfg = ConfigParser()\n",
    "\n",
    "cfg.add_section('Section')\n",
    "cfg['DEFAULT'] = {\n",
    "    'ServerAliveInterval': '45',\n",
    "    'Compression': 'yes',\n",
    "    'CompressionLevel': '9'}\n",
    "cfg['bitbucket.org'] = {}\n",
    "cfg['bitbucket.org']['User'] = 'hg'\n",
    "cfg['topsecret.server.com'] = {}\n",
    "topsecret = cfg['topsecret.server.com']\n",
    "topsecret['Port'] = '50022'  # mutates the parser\n",
    "topsecret['ForwardX11'] = 'no'  # same here\n",
    "cfg['DEFAULT']['ForwardX11'] = 'yes'\n",
    "\n",
    "with open(config_write, 'w') as file:\n",
    "    cfg.write(file)\n",
    "\n",
    "# [DEFAULT]\n",
    "# serveraliveinterval = 45\n",
    "# compression = yes\n",
    "# compressionlevel = 9\n",
    "# forwardx11 = yes\n",
    "# \n",
    "# [Section]\n",
    "# \n",
    "# [bitbucket.org]\n",
    "# user = hg\n",
    "# \n",
    "# [topsecret.server.com]\n",
    "# port = 50022\n",
    "# forwardx11 = no\n"
   ]
  }
 ],
 "metadata": {
  "kernelspec": {
   "display_name": "Python 2",
   "language": "python",
   "name": "python2"
  },
  "language_info": {
   "codemirror_mode": {
    "name": "ipython",
    "version": 2
   },
   "file_extension": ".py",
   "mimetype": "text/x-python",
   "name": "python",
   "nbconvert_exporter": "python",
   "pygments_lexer": "ipython2",
   "version": "2.7.6"
  }
 },
 "nbformat": 4,
 "nbformat_minor": 0
}
