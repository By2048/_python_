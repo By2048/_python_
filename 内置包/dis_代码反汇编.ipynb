{
 "cells": [
  {
   "cell_type": "code",
   "execution_count": null,
   "metadata": {
    "collapsed": true
   },
   "outputs": [
    {
     "name": "stdout",
     "output_type": "stream",
     "text": [
      "  4           0 LOAD_CONST               1 (5)\n              2 STORE_FAST               0 (x)\n\n  5           4 LOAD_CONST               2 (6)\n              6 STORE_FAST               1 (y)\n\n  6           8 LOAD_FAST                1 (y)\n             10 LOAD_FAST                0 (x)\n             12 ROT_TWO\n             14 STORE_FAST               0 (x)\n             16 STORE_FAST               1 (y)\n             18 LOAD_CONST               0 (None)\n             20 RETURN_VALUE\nNone\n----------------------------------------------------------------------------------------------------\n  9           0 LOAD_CONST               1 (5)\n              2 STORE_FAST               0 (x)\n\n 10           4 LOAD_CONST               2 (6)\n              6 STORE_FAST               1 (y)\n\n 11           8 LOAD_FAST                0 (x)\n             10 STORE_FAST               2 (tmp)\n\n 12          12 LOAD_FAST                1 (y)\n             14 STORE_FAST               0 (x)\n\n 13          16 LOAD_FAST                2 (tmp)\n             18 STORE_FAST               1 (y)\n             20 LOAD_CONST               0 (None)\n             22 RETURN_VALUE\nNone\n"
     ]
    }
   ],
   "source": [
    "## 代码反编译查看性能\n",
    "[官方文档](https://docs.python.org/3/library/dis.html)\n"
   ]
  },
  {
   "cell_type": "code",
   "execution_count": 7,
   "metadata": {
    "collapsed": true
   },
   "outputs": [
    {
     "name": "stdout",
     "output_type": "stream",
     "text": [
      "  4           0 LOAD_CONST               1 (5)\n              2 STORE_FAST               0 (x)\n\n  5           4 LOAD_CONST               2 (6)\n              6 STORE_FAST               1 (y)\n\n  6           8 LOAD_FAST                1 (y)\n             10 LOAD_FAST                0 (x)\n             12 ROT_TWO\n             14 STORE_FAST               0 (x)\n             16 STORE_FAST               1 (y)\n             18 LOAD_CONST               0 (None)\n             20 RETURN_VALUE\nNone\n----------------------------------------------------------------------------------------------------\n  9           0 LOAD_CONST               1 (5)\n              2 STORE_FAST               0 (x)\n\n 10           4 LOAD_CONST               2 (6)\n              6 STORE_FAST               1 (y)\n\n 11           8 LOAD_FAST                0 (x)\n             10 STORE_FAST               2 (tmp)\n\n 12          12 LOAD_FAST                1 (y)\n             14 STORE_FAST               0 (x)\n\n 13          16 LOAD_FAST                2 (tmp)\n             18 STORE_FAST               1 (y)\n             20 LOAD_CONST               0 (None)\n             22 RETURN_VALUE\nNone\n"
     ]
    }
   ],
   "source": [
    "import dis\n",
    "\n",
    "def test_1():\n",
    "    while 1:\n",
    "        pass\n",
    "\n",
    "def test_2():\n",
    "    while True:\n",
    "        pass\n",
    "\n",
    "dis.dis(test_1)\n",
    "print('-' * 100)\n",
    "dis.dis(test_2)\n"
   ]
  },
  {
   "cell_type": "code",
   "execution_count": 8,
   "metadata": {
    "collapsed": true
   },
   "outputs": [
    {
     "name": "stdout",
     "output_type": "stream",
     "text": [
      "  4           0 LOAD_CONST               1 (5)\n              2 STORE_FAST               0 (x)\n\n  5           4 LOAD_CONST               2 (6)\n              6 STORE_FAST               1 (y)\n\n  6           8 LOAD_FAST                1 (y)\n             10 LOAD_FAST                0 (x)\n             12 ROT_TWO\n             14 STORE_FAST               0 (x)\n             16 STORE_FAST               1 (y)\n             18 LOAD_CONST               0 (None)\n             20 RETURN_VALUE\nNone\n----------------------------------------------------------------------------------------------------\n  9           0 LOAD_CONST               1 (5)\n              2 STORE_FAST               0 (x)\n\n 10           4 LOAD_CONST               2 (6)\n              6 STORE_FAST               1 (y)\n\n 11           8 LOAD_FAST                0 (x)\n             10 STORE_FAST               2 (tmp)\n\n 12          12 LOAD_FAST                1 (y)\n             14 STORE_FAST               0 (x)\n\n 13          16 LOAD_FAST                2 (tmp)\n             18 STORE_FAST               1 (y)\n             20 LOAD_CONST               0 (None)\n             22 RETURN_VALUE\nNone\n"
     ]
    }
   ],
   "source": [
    "import dis\n",
    "\n",
    "def swap1():\n",
    "    x = 5\n",
    "    y = 6\n",
    "    x, y = y, x\n",
    "\n",
    "def swap2():\n",
    "    x = 5\n",
    "    y = 6\n",
    "    tmp = x\n",
    "    x = y\n",
    "    y = tmp\n",
    "\n",
    "if __name__ == \"__main__\":\n",
    "    print(dis.dis(swap1))\n",
    "    print('-' * 100)\n",
    "    print(dis.dis(swap2))\n",
    "\n",
    "# 通过字节码可以看到，swap1和swap2最大的区别在于，swap1中通过ROT_TWO交换栈顶的两个元素实现x和y值的互换\n",
    "# swap2中引入了tmp变量，多了一次LOAD_FAST, STORE_FAST的操作。\n",
    "# 执行一个ROT_TWO指令比执行一个LOAD_FAST + STORE_FAST的指令快，这也是为什么swap1比swap2性能更好的原因。\n"
   ]
  },
  {
   "cell_type": "code",
   "execution_count": null,
   "metadata": {},
   "outputs": [],
   "source": []
  }
 ],
 "metadata": {
  "kernelspec": {
   "display_name": "Python 2",
   "language": "python",
   "name": "python2"
  },
  "language_info": {
   "codemirror_mode": {
    "name": "ipython",
    "version": 2
   },
   "file_extension": ".py",
   "mimetype": "text/x-python",
   "name": "python",
   "nbconvert_exporter": "python",
   "pygments_lexer": "ipython2",
   "version": "2.7.6"
  }
 },
 "nbformat": 4,
 "nbformat_minor": 0
}
